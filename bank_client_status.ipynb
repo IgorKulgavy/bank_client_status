{
  "cells": [
    {
      "cell_type": "markdown",
      "metadata": {
        "id": "zrBeo3I-lIDP"
      },
      "source": [
        "# Описание"
      ]
    },
    {
      "cell_type": "markdown",
      "metadata": {
        "id": "eHO6nF7jlIDW"
      },
      "source": [
        "Задача: предсказать статус клиента банка на основе исторических данных. \n",
        "\n",
        "Источник данных: [https://www.kaggle.com/barelydedicated/bank-customer-churn-modeling](https://www.kaggle.com/barelydedicated/bank-customer-churn-modeling)\n",
        "\n",
        "Признаки\n",
        "\n",
        "RowNumber — индекс строки в данных\n",
        "\n",
        "CustomerId — уникальный идентификатор клиента\n",
        "\n",
        "Surname — фамилия\n",
        "\n",
        "CreditScore — кредитный рейтинг\n",
        "\n",
        "Geography — страна проживания\n",
        "\n",
        "Gender — пол\n",
        "\n",
        "Age — возраст\n",
        "\n",
        "Tenure — сколько лет человек является клиентом банка\n",
        "\n",
        "Balance — баланс на счёте\n",
        "\n",
        "NumOfProducts — количество продуктов банка, используемых клиентом\n",
        "\n",
        "HasCrCard — наличие кредитной карты\n",
        "\n",
        "IsActiveMember — активность клиента\n",
        "\n",
        "EstimatedSalary — предполагаемая зарплата\n",
        "\n",
        "Целевой признак\n",
        "Exited — факт ухода клиента"
      ]
    },
    {
      "cell_type": "markdown",
      "metadata": {
        "id": "3Ne8gApZlIDY"
      },
      "source": [
        "## Подготовка данных"
      ]
    },
    {
      "cell_type": "code",
      "execution_count": null,
      "metadata": {
        "id": "PYWs6uImlIDa",
        "colab": {
          "base_uri": "https://localhost:8080/"
        },
        "outputId": "51d11ffc-f22c-4e72-86d6-8bfea103ca1b"
      },
      "outputs": [
        {
          "output_type": "stream",
          "name": "stdout",
          "text": [
            "Looking in indexes: https://pypi.org/simple, https://us-python.pkg.dev/colab-wheels/public/simple/\n",
            "Collecting catboost\n",
            "  Downloading catboost-1.0.6-cp37-none-manylinux1_x86_64.whl (76.6 MB)\n",
            "\u001b[K     |████████████████████████████████| 76.6 MB 1.2 MB/s \n",
            "\u001b[?25hRequirement already satisfied: numpy>=1.16.0 in /usr/local/lib/python3.7/dist-packages (from catboost) (1.21.6)\n",
            "Requirement already satisfied: graphviz in /usr/local/lib/python3.7/dist-packages (from catboost) (0.10.1)\n",
            "Requirement already satisfied: matplotlib in /usr/local/lib/python3.7/dist-packages (from catboost) (3.2.2)\n",
            "Requirement already satisfied: plotly in /usr/local/lib/python3.7/dist-packages (from catboost) (5.5.0)\n",
            "Requirement already satisfied: six in /usr/local/lib/python3.7/dist-packages (from catboost) (1.15.0)\n",
            "Requirement already satisfied: scipy in /usr/local/lib/python3.7/dist-packages (from catboost) (1.7.3)\n",
            "Requirement already satisfied: pandas>=0.24.0 in /usr/local/lib/python3.7/dist-packages (from catboost) (1.3.5)\n",
            "Requirement already satisfied: pytz>=2017.3 in /usr/local/lib/python3.7/dist-packages (from pandas>=0.24.0->catboost) (2022.2.1)\n",
            "Requirement already satisfied: python-dateutil>=2.7.3 in /usr/local/lib/python3.7/dist-packages (from pandas>=0.24.0->catboost) (2.8.2)\n",
            "Requirement already satisfied: kiwisolver>=1.0.1 in /usr/local/lib/python3.7/dist-packages (from matplotlib->catboost) (1.4.4)\n",
            "Requirement already satisfied: cycler>=0.10 in /usr/local/lib/python3.7/dist-packages (from matplotlib->catboost) (0.11.0)\n",
            "Requirement already satisfied: pyparsing!=2.0.4,!=2.1.2,!=2.1.6,>=2.0.1 in /usr/local/lib/python3.7/dist-packages (from matplotlib->catboost) (3.0.9)\n",
            "Requirement already satisfied: typing-extensions in /usr/local/lib/python3.7/dist-packages (from kiwisolver>=1.0.1->matplotlib->catboost) (4.1.1)\n",
            "Requirement already satisfied: tenacity>=6.2.0 in /usr/local/lib/python3.7/dist-packages (from plotly->catboost) (8.0.1)\n",
            "Installing collected packages: catboost\n",
            "Successfully installed catboost-1.0.6\n"
          ]
        }
      ],
      "source": [
        "import pandas as pd\n",
        "from sklearn.model_selection import train_test_split, GridSearchCV\n",
        "from sklearn.tree import DecisionTreeClassifier\n",
        "from sklearn.linear_model import LogisticRegression\n",
        "from sklearn.ensemble import RandomForestClassifier\n",
        "!pip install catboost\n",
        "import catboost as cb\n",
        "from sklearn.metrics import f1_score, roc_auc_score\n",
        "from sklearn.preprocessing import StandardScaler \n",
        "from sklearn.utils import shuffle\n",
        "import matplotlib.pyplot as plt\n",
        "import numpy as np\n",
        "import matplotlib.pyplot as plt\n",
        "from sklearn.model_selection import GridSearchCV"
      ]
    },
    {
      "cell_type": "markdown",
      "metadata": {
        "id": "uOTl1jjs4s7W"
      },
      "source": [
        "Загрудаем данные"
      ]
    },
    {
      "cell_type": "code",
      "execution_count": null,
      "metadata": {
        "colab": {
          "base_uri": "https://localhost:8080/"
        },
        "id": "wBYh8yK1lPX3",
        "outputId": "be3445ce-acc6-426d-ec0c-2c197afacb33",
        "scrolled": true
      },
      "outputs": [
        {
          "output_type": "stream",
          "name": "stdout",
          "text": [
            "Mounted at /content/drive\n"
          ]
        }
      ],
      "source": [
        "from google.colab import drive\n",
        "drive.mount('/content/drive')\n",
        "df = pd.read_csv('/content/drive/MyDrive/Colab_Notebooks/uchitel/Churn.csv')\n"
      ]
    },
    {
      "cell_type": "code",
      "execution_count": null,
      "metadata": {
        "colab": {
          "base_uri": "https://localhost:8080/",
          "height": 488
        },
        "id": "dlaHC4-2wxp_",
        "outputId": "37471621-3ae1-4530-e455-99f79b1bcf4d"
      },
      "outputs": [
        {
          "output_type": "execute_result",
          "data": {
            "text/plain": [
              "      RowNumber  CustomerId    Surname  CreditScore Geography  Gender  Age  \\\n",
              "0             1    15634602   Hargrave          619    France  Female   42   \n",
              "1             2    15647311       Hill          608     Spain  Female   41   \n",
              "2             3    15619304       Onio          502    France  Female   42   \n",
              "3             4    15701354       Boni          699    France  Female   39   \n",
              "4             5    15737888   Mitchell          850     Spain  Female   43   \n",
              "...         ...         ...        ...          ...       ...     ...  ...   \n",
              "9995       9996    15606229   Obijiaku          771    France    Male   39   \n",
              "9996       9997    15569892  Johnstone          516    France    Male   35   \n",
              "9997       9998    15584532        Liu          709    France  Female   36   \n",
              "9998       9999    15682355  Sabbatini          772   Germany    Male   42   \n",
              "9999      10000    15628319     Walker          792    France  Female   28   \n",
              "\n",
              "      Tenure    Balance  NumOfProducts  HasCrCard  IsActiveMember  \\\n",
              "0        2.0       0.00              1          1               1   \n",
              "1        1.0   83807.86              1          0               1   \n",
              "2        8.0  159660.80              3          1               0   \n",
              "3        1.0       0.00              2          0               0   \n",
              "4        2.0  125510.82              1          1               1   \n",
              "...      ...        ...            ...        ...             ...   \n",
              "9995     5.0       0.00              2          1               0   \n",
              "9996    10.0   57369.61              1          1               1   \n",
              "9997     7.0       0.00              1          0               1   \n",
              "9998     3.0   75075.31              2          1               0   \n",
              "9999     NaN  130142.79              1          1               0   \n",
              "\n",
              "      EstimatedSalary  Exited  \n",
              "0           101348.88       1  \n",
              "1           112542.58       0  \n",
              "2           113931.57       1  \n",
              "3            93826.63       0  \n",
              "4            79084.10       0  \n",
              "...               ...     ...  \n",
              "9995         96270.64       0  \n",
              "9996        101699.77       0  \n",
              "9997         42085.58       1  \n",
              "9998         92888.52       1  \n",
              "9999         38190.78       0  \n",
              "\n",
              "[10000 rows x 14 columns]"
            ],
            "text/html": [
              "\n",
              "  <div id=\"df-26f10e8e-9749-4121-a2e5-1791c3d5eaa6\">\n",
              "    <div class=\"colab-df-container\">\n",
              "      <div>\n",
              "<style scoped>\n",
              "    .dataframe tbody tr th:only-of-type {\n",
              "        vertical-align: middle;\n",
              "    }\n",
              "\n",
              "    .dataframe tbody tr th {\n",
              "        vertical-align: top;\n",
              "    }\n",
              "\n",
              "    .dataframe thead th {\n",
              "        text-align: right;\n",
              "    }\n",
              "</style>\n",
              "<table border=\"1\" class=\"dataframe\">\n",
              "  <thead>\n",
              "    <tr style=\"text-align: right;\">\n",
              "      <th></th>\n",
              "      <th>RowNumber</th>\n",
              "      <th>CustomerId</th>\n",
              "      <th>Surname</th>\n",
              "      <th>CreditScore</th>\n",
              "      <th>Geography</th>\n",
              "      <th>Gender</th>\n",
              "      <th>Age</th>\n",
              "      <th>Tenure</th>\n",
              "      <th>Balance</th>\n",
              "      <th>NumOfProducts</th>\n",
              "      <th>HasCrCard</th>\n",
              "      <th>IsActiveMember</th>\n",
              "      <th>EstimatedSalary</th>\n",
              "      <th>Exited</th>\n",
              "    </tr>\n",
              "  </thead>\n",
              "  <tbody>\n",
              "    <tr>\n",
              "      <th>0</th>\n",
              "      <td>1</td>\n",
              "      <td>15634602</td>\n",
              "      <td>Hargrave</td>\n",
              "      <td>619</td>\n",
              "      <td>France</td>\n",
              "      <td>Female</td>\n",
              "      <td>42</td>\n",
              "      <td>2.0</td>\n",
              "      <td>0.00</td>\n",
              "      <td>1</td>\n",
              "      <td>1</td>\n",
              "      <td>1</td>\n",
              "      <td>101348.88</td>\n",
              "      <td>1</td>\n",
              "    </tr>\n",
              "    <tr>\n",
              "      <th>1</th>\n",
              "      <td>2</td>\n",
              "      <td>15647311</td>\n",
              "      <td>Hill</td>\n",
              "      <td>608</td>\n",
              "      <td>Spain</td>\n",
              "      <td>Female</td>\n",
              "      <td>41</td>\n",
              "      <td>1.0</td>\n",
              "      <td>83807.86</td>\n",
              "      <td>1</td>\n",
              "      <td>0</td>\n",
              "      <td>1</td>\n",
              "      <td>112542.58</td>\n",
              "      <td>0</td>\n",
              "    </tr>\n",
              "    <tr>\n",
              "      <th>2</th>\n",
              "      <td>3</td>\n",
              "      <td>15619304</td>\n",
              "      <td>Onio</td>\n",
              "      <td>502</td>\n",
              "      <td>France</td>\n",
              "      <td>Female</td>\n",
              "      <td>42</td>\n",
              "      <td>8.0</td>\n",
              "      <td>159660.80</td>\n",
              "      <td>3</td>\n",
              "      <td>1</td>\n",
              "      <td>0</td>\n",
              "      <td>113931.57</td>\n",
              "      <td>1</td>\n",
              "    </tr>\n",
              "    <tr>\n",
              "      <th>3</th>\n",
              "      <td>4</td>\n",
              "      <td>15701354</td>\n",
              "      <td>Boni</td>\n",
              "      <td>699</td>\n",
              "      <td>France</td>\n",
              "      <td>Female</td>\n",
              "      <td>39</td>\n",
              "      <td>1.0</td>\n",
              "      <td>0.00</td>\n",
              "      <td>2</td>\n",
              "      <td>0</td>\n",
              "      <td>0</td>\n",
              "      <td>93826.63</td>\n",
              "      <td>0</td>\n",
              "    </tr>\n",
              "    <tr>\n",
              "      <th>4</th>\n",
              "      <td>5</td>\n",
              "      <td>15737888</td>\n",
              "      <td>Mitchell</td>\n",
              "      <td>850</td>\n",
              "      <td>Spain</td>\n",
              "      <td>Female</td>\n",
              "      <td>43</td>\n",
              "      <td>2.0</td>\n",
              "      <td>125510.82</td>\n",
              "      <td>1</td>\n",
              "      <td>1</td>\n",
              "      <td>1</td>\n",
              "      <td>79084.10</td>\n",
              "      <td>0</td>\n",
              "    </tr>\n",
              "    <tr>\n",
              "      <th>...</th>\n",
              "      <td>...</td>\n",
              "      <td>...</td>\n",
              "      <td>...</td>\n",
              "      <td>...</td>\n",
              "      <td>...</td>\n",
              "      <td>...</td>\n",
              "      <td>...</td>\n",
              "      <td>...</td>\n",
              "      <td>...</td>\n",
              "      <td>...</td>\n",
              "      <td>...</td>\n",
              "      <td>...</td>\n",
              "      <td>...</td>\n",
              "      <td>...</td>\n",
              "    </tr>\n",
              "    <tr>\n",
              "      <th>9995</th>\n",
              "      <td>9996</td>\n",
              "      <td>15606229</td>\n",
              "      <td>Obijiaku</td>\n",
              "      <td>771</td>\n",
              "      <td>France</td>\n",
              "      <td>Male</td>\n",
              "      <td>39</td>\n",
              "      <td>5.0</td>\n",
              "      <td>0.00</td>\n",
              "      <td>2</td>\n",
              "      <td>1</td>\n",
              "      <td>0</td>\n",
              "      <td>96270.64</td>\n",
              "      <td>0</td>\n",
              "    </tr>\n",
              "    <tr>\n",
              "      <th>9996</th>\n",
              "      <td>9997</td>\n",
              "      <td>15569892</td>\n",
              "      <td>Johnstone</td>\n",
              "      <td>516</td>\n",
              "      <td>France</td>\n",
              "      <td>Male</td>\n",
              "      <td>35</td>\n",
              "      <td>10.0</td>\n",
              "      <td>57369.61</td>\n",
              "      <td>1</td>\n",
              "      <td>1</td>\n",
              "      <td>1</td>\n",
              "      <td>101699.77</td>\n",
              "      <td>0</td>\n",
              "    </tr>\n",
              "    <tr>\n",
              "      <th>9997</th>\n",
              "      <td>9998</td>\n",
              "      <td>15584532</td>\n",
              "      <td>Liu</td>\n",
              "      <td>709</td>\n",
              "      <td>France</td>\n",
              "      <td>Female</td>\n",
              "      <td>36</td>\n",
              "      <td>7.0</td>\n",
              "      <td>0.00</td>\n",
              "      <td>1</td>\n",
              "      <td>0</td>\n",
              "      <td>1</td>\n",
              "      <td>42085.58</td>\n",
              "      <td>1</td>\n",
              "    </tr>\n",
              "    <tr>\n",
              "      <th>9998</th>\n",
              "      <td>9999</td>\n",
              "      <td>15682355</td>\n",
              "      <td>Sabbatini</td>\n",
              "      <td>772</td>\n",
              "      <td>Germany</td>\n",
              "      <td>Male</td>\n",
              "      <td>42</td>\n",
              "      <td>3.0</td>\n",
              "      <td>75075.31</td>\n",
              "      <td>2</td>\n",
              "      <td>1</td>\n",
              "      <td>0</td>\n",
              "      <td>92888.52</td>\n",
              "      <td>1</td>\n",
              "    </tr>\n",
              "    <tr>\n",
              "      <th>9999</th>\n",
              "      <td>10000</td>\n",
              "      <td>15628319</td>\n",
              "      <td>Walker</td>\n",
              "      <td>792</td>\n",
              "      <td>France</td>\n",
              "      <td>Female</td>\n",
              "      <td>28</td>\n",
              "      <td>NaN</td>\n",
              "      <td>130142.79</td>\n",
              "      <td>1</td>\n",
              "      <td>1</td>\n",
              "      <td>0</td>\n",
              "      <td>38190.78</td>\n",
              "      <td>0</td>\n",
              "    </tr>\n",
              "  </tbody>\n",
              "</table>\n",
              "<p>10000 rows × 14 columns</p>\n",
              "</div>\n",
              "      <button class=\"colab-df-convert\" onclick=\"convertToInteractive('df-26f10e8e-9749-4121-a2e5-1791c3d5eaa6')\"\n",
              "              title=\"Convert this dataframe to an interactive table.\"\n",
              "              style=\"display:none;\">\n",
              "        \n",
              "  <svg xmlns=\"http://www.w3.org/2000/svg\" height=\"24px\"viewBox=\"0 0 24 24\"\n",
              "       width=\"24px\">\n",
              "    <path d=\"M0 0h24v24H0V0z\" fill=\"none\"/>\n",
              "    <path d=\"M18.56 5.44l.94 2.06.94-2.06 2.06-.94-2.06-.94-.94-2.06-.94 2.06-2.06.94zm-11 1L8.5 8.5l.94-2.06 2.06-.94-2.06-.94L8.5 2.5l-.94 2.06-2.06.94zm10 10l.94 2.06.94-2.06 2.06-.94-2.06-.94-.94-2.06-.94 2.06-2.06.94z\"/><path d=\"M17.41 7.96l-1.37-1.37c-.4-.4-.92-.59-1.43-.59-.52 0-1.04.2-1.43.59L10.3 9.45l-7.72 7.72c-.78.78-.78 2.05 0 2.83L4 21.41c.39.39.9.59 1.41.59.51 0 1.02-.2 1.41-.59l7.78-7.78 2.81-2.81c.8-.78.8-2.07 0-2.86zM5.41 20L4 18.59l7.72-7.72 1.47 1.35L5.41 20z\"/>\n",
              "  </svg>\n",
              "      </button>\n",
              "      \n",
              "  <style>\n",
              "    .colab-df-container {\n",
              "      display:flex;\n",
              "      flex-wrap:wrap;\n",
              "      gap: 12px;\n",
              "    }\n",
              "\n",
              "    .colab-df-convert {\n",
              "      background-color: #E8F0FE;\n",
              "      border: none;\n",
              "      border-radius: 50%;\n",
              "      cursor: pointer;\n",
              "      display: none;\n",
              "      fill: #1967D2;\n",
              "      height: 32px;\n",
              "      padding: 0 0 0 0;\n",
              "      width: 32px;\n",
              "    }\n",
              "\n",
              "    .colab-df-convert:hover {\n",
              "      background-color: #E2EBFA;\n",
              "      box-shadow: 0px 1px 2px rgba(60, 64, 67, 0.3), 0px 1px 3px 1px rgba(60, 64, 67, 0.15);\n",
              "      fill: #174EA6;\n",
              "    }\n",
              "\n",
              "    [theme=dark] .colab-df-convert {\n",
              "      background-color: #3B4455;\n",
              "      fill: #D2E3FC;\n",
              "    }\n",
              "\n",
              "    [theme=dark] .colab-df-convert:hover {\n",
              "      background-color: #434B5C;\n",
              "      box-shadow: 0px 1px 3px 1px rgba(0, 0, 0, 0.15);\n",
              "      filter: drop-shadow(0px 1px 2px rgba(0, 0, 0, 0.3));\n",
              "      fill: #FFFFFF;\n",
              "    }\n",
              "  </style>\n",
              "\n",
              "      <script>\n",
              "        const buttonEl =\n",
              "          document.querySelector('#df-26f10e8e-9749-4121-a2e5-1791c3d5eaa6 button.colab-df-convert');\n",
              "        buttonEl.style.display =\n",
              "          google.colab.kernel.accessAllowed ? 'block' : 'none';\n",
              "\n",
              "        async function convertToInteractive(key) {\n",
              "          const element = document.querySelector('#df-26f10e8e-9749-4121-a2e5-1791c3d5eaa6');\n",
              "          const dataTable =\n",
              "            await google.colab.kernel.invokeFunction('convertToInteractive',\n",
              "                                                     [key], {});\n",
              "          if (!dataTable) return;\n",
              "\n",
              "          const docLinkHtml = 'Like what you see? Visit the ' +\n",
              "            '<a target=\"_blank\" href=https://colab.research.google.com/notebooks/data_table.ipynb>data table notebook</a>'\n",
              "            + ' to learn more about interactive tables.';\n",
              "          element.innerHTML = '';\n",
              "          dataTable['output_type'] = 'display_data';\n",
              "          await google.colab.output.renderOutput(dataTable, element);\n",
              "          const docLink = document.createElement('div');\n",
              "          docLink.innerHTML = docLinkHtml;\n",
              "          element.appendChild(docLink);\n",
              "        }\n",
              "      </script>\n",
              "    </div>\n",
              "  </div>\n",
              "  "
            ]
          },
          "metadata": {},
          "execution_count": 3
        }
      ],
      "source": [
        "df"
      ]
    },
    {
      "cell_type": "code",
      "source": [
        "df.describe()"
      ],
      "metadata": {
        "colab": {
          "base_uri": "https://localhost:8080/",
          "height": 364
        },
        "id": "y0UxtYACtrCc",
        "outputId": "b6b6b43f-c35c-458c-8565-23a8b574ce35"
      },
      "execution_count": null,
      "outputs": [
        {
          "output_type": "execute_result",
          "data": {
            "text/plain": [
              "         RowNumber    CustomerId   CreditScore           Age       Tenure  \\\n",
              "count  10000.00000  1.000000e+04  10000.000000  10000.000000  9091.000000   \n",
              "mean    5000.50000  1.569094e+07    650.528800     38.921800     4.997690   \n",
              "std     2886.89568  7.193619e+04     96.653299     10.487806     2.894723   \n",
              "min        1.00000  1.556570e+07    350.000000     18.000000     0.000000   \n",
              "25%     2500.75000  1.562853e+07    584.000000     32.000000     2.000000   \n",
              "50%     5000.50000  1.569074e+07    652.000000     37.000000     5.000000   \n",
              "75%     7500.25000  1.575323e+07    718.000000     44.000000     7.000000   \n",
              "max    10000.00000  1.581569e+07    850.000000     92.000000    10.000000   \n",
              "\n",
              "             Balance  NumOfProducts    HasCrCard  IsActiveMember  \\\n",
              "count   10000.000000   10000.000000  10000.00000    10000.000000   \n",
              "mean    76485.889288       1.530200      0.70550        0.515100   \n",
              "std     62397.405202       0.581654      0.45584        0.499797   \n",
              "min         0.000000       1.000000      0.00000        0.000000   \n",
              "25%         0.000000       1.000000      0.00000        0.000000   \n",
              "50%     97198.540000       1.000000      1.00000        1.000000   \n",
              "75%    127644.240000       2.000000      1.00000        1.000000   \n",
              "max    250898.090000       4.000000      1.00000        1.000000   \n",
              "\n",
              "       EstimatedSalary        Exited  \n",
              "count     10000.000000  10000.000000  \n",
              "mean     100090.239881      0.203700  \n",
              "std       57510.492818      0.402769  \n",
              "min          11.580000      0.000000  \n",
              "25%       51002.110000      0.000000  \n",
              "50%      100193.915000      0.000000  \n",
              "75%      149388.247500      0.000000  \n",
              "max      199992.480000      1.000000  "
            ],
            "text/html": [
              "\n",
              "  <div id=\"df-ee9b9c4e-be1a-4e77-90b8-fb12bfcd9547\">\n",
              "    <div class=\"colab-df-container\">\n",
              "      <div>\n",
              "<style scoped>\n",
              "    .dataframe tbody tr th:only-of-type {\n",
              "        vertical-align: middle;\n",
              "    }\n",
              "\n",
              "    .dataframe tbody tr th {\n",
              "        vertical-align: top;\n",
              "    }\n",
              "\n",
              "    .dataframe thead th {\n",
              "        text-align: right;\n",
              "    }\n",
              "</style>\n",
              "<table border=\"1\" class=\"dataframe\">\n",
              "  <thead>\n",
              "    <tr style=\"text-align: right;\">\n",
              "      <th></th>\n",
              "      <th>RowNumber</th>\n",
              "      <th>CustomerId</th>\n",
              "      <th>CreditScore</th>\n",
              "      <th>Age</th>\n",
              "      <th>Tenure</th>\n",
              "      <th>Balance</th>\n",
              "      <th>NumOfProducts</th>\n",
              "      <th>HasCrCard</th>\n",
              "      <th>IsActiveMember</th>\n",
              "      <th>EstimatedSalary</th>\n",
              "      <th>Exited</th>\n",
              "    </tr>\n",
              "  </thead>\n",
              "  <tbody>\n",
              "    <tr>\n",
              "      <th>count</th>\n",
              "      <td>10000.00000</td>\n",
              "      <td>1.000000e+04</td>\n",
              "      <td>10000.000000</td>\n",
              "      <td>10000.000000</td>\n",
              "      <td>9091.000000</td>\n",
              "      <td>10000.000000</td>\n",
              "      <td>10000.000000</td>\n",
              "      <td>10000.00000</td>\n",
              "      <td>10000.000000</td>\n",
              "      <td>10000.000000</td>\n",
              "      <td>10000.000000</td>\n",
              "    </tr>\n",
              "    <tr>\n",
              "      <th>mean</th>\n",
              "      <td>5000.50000</td>\n",
              "      <td>1.569094e+07</td>\n",
              "      <td>650.528800</td>\n",
              "      <td>38.921800</td>\n",
              "      <td>4.997690</td>\n",
              "      <td>76485.889288</td>\n",
              "      <td>1.530200</td>\n",
              "      <td>0.70550</td>\n",
              "      <td>0.515100</td>\n",
              "      <td>100090.239881</td>\n",
              "      <td>0.203700</td>\n",
              "    </tr>\n",
              "    <tr>\n",
              "      <th>std</th>\n",
              "      <td>2886.89568</td>\n",
              "      <td>7.193619e+04</td>\n",
              "      <td>96.653299</td>\n",
              "      <td>10.487806</td>\n",
              "      <td>2.894723</td>\n",
              "      <td>62397.405202</td>\n",
              "      <td>0.581654</td>\n",
              "      <td>0.45584</td>\n",
              "      <td>0.499797</td>\n",
              "      <td>57510.492818</td>\n",
              "      <td>0.402769</td>\n",
              "    </tr>\n",
              "    <tr>\n",
              "      <th>min</th>\n",
              "      <td>1.00000</td>\n",
              "      <td>1.556570e+07</td>\n",
              "      <td>350.000000</td>\n",
              "      <td>18.000000</td>\n",
              "      <td>0.000000</td>\n",
              "      <td>0.000000</td>\n",
              "      <td>1.000000</td>\n",
              "      <td>0.00000</td>\n",
              "      <td>0.000000</td>\n",
              "      <td>11.580000</td>\n",
              "      <td>0.000000</td>\n",
              "    </tr>\n",
              "    <tr>\n",
              "      <th>25%</th>\n",
              "      <td>2500.75000</td>\n",
              "      <td>1.562853e+07</td>\n",
              "      <td>584.000000</td>\n",
              "      <td>32.000000</td>\n",
              "      <td>2.000000</td>\n",
              "      <td>0.000000</td>\n",
              "      <td>1.000000</td>\n",
              "      <td>0.00000</td>\n",
              "      <td>0.000000</td>\n",
              "      <td>51002.110000</td>\n",
              "      <td>0.000000</td>\n",
              "    </tr>\n",
              "    <tr>\n",
              "      <th>50%</th>\n",
              "      <td>5000.50000</td>\n",
              "      <td>1.569074e+07</td>\n",
              "      <td>652.000000</td>\n",
              "      <td>37.000000</td>\n",
              "      <td>5.000000</td>\n",
              "      <td>97198.540000</td>\n",
              "      <td>1.000000</td>\n",
              "      <td>1.00000</td>\n",
              "      <td>1.000000</td>\n",
              "      <td>100193.915000</td>\n",
              "      <td>0.000000</td>\n",
              "    </tr>\n",
              "    <tr>\n",
              "      <th>75%</th>\n",
              "      <td>7500.25000</td>\n",
              "      <td>1.575323e+07</td>\n",
              "      <td>718.000000</td>\n",
              "      <td>44.000000</td>\n",
              "      <td>7.000000</td>\n",
              "      <td>127644.240000</td>\n",
              "      <td>2.000000</td>\n",
              "      <td>1.00000</td>\n",
              "      <td>1.000000</td>\n",
              "      <td>149388.247500</td>\n",
              "      <td>0.000000</td>\n",
              "    </tr>\n",
              "    <tr>\n",
              "      <th>max</th>\n",
              "      <td>10000.00000</td>\n",
              "      <td>1.581569e+07</td>\n",
              "      <td>850.000000</td>\n",
              "      <td>92.000000</td>\n",
              "      <td>10.000000</td>\n",
              "      <td>250898.090000</td>\n",
              "      <td>4.000000</td>\n",
              "      <td>1.00000</td>\n",
              "      <td>1.000000</td>\n",
              "      <td>199992.480000</td>\n",
              "      <td>1.000000</td>\n",
              "    </tr>\n",
              "  </tbody>\n",
              "</table>\n",
              "</div>\n",
              "      <button class=\"colab-df-convert\" onclick=\"convertToInteractive('df-ee9b9c4e-be1a-4e77-90b8-fb12bfcd9547')\"\n",
              "              title=\"Convert this dataframe to an interactive table.\"\n",
              "              style=\"display:none;\">\n",
              "        \n",
              "  <svg xmlns=\"http://www.w3.org/2000/svg\" height=\"24px\"viewBox=\"0 0 24 24\"\n",
              "       width=\"24px\">\n",
              "    <path d=\"M0 0h24v24H0V0z\" fill=\"none\"/>\n",
              "    <path d=\"M18.56 5.44l.94 2.06.94-2.06 2.06-.94-2.06-.94-.94-2.06-.94 2.06-2.06.94zm-11 1L8.5 8.5l.94-2.06 2.06-.94-2.06-.94L8.5 2.5l-.94 2.06-2.06.94zm10 10l.94 2.06.94-2.06 2.06-.94-2.06-.94-.94-2.06-.94 2.06-2.06.94z\"/><path d=\"M17.41 7.96l-1.37-1.37c-.4-.4-.92-.59-1.43-.59-.52 0-1.04.2-1.43.59L10.3 9.45l-7.72 7.72c-.78.78-.78 2.05 0 2.83L4 21.41c.39.39.9.59 1.41.59.51 0 1.02-.2 1.41-.59l7.78-7.78 2.81-2.81c.8-.78.8-2.07 0-2.86zM5.41 20L4 18.59l7.72-7.72 1.47 1.35L5.41 20z\"/>\n",
              "  </svg>\n",
              "      </button>\n",
              "      \n",
              "  <style>\n",
              "    .colab-df-container {\n",
              "      display:flex;\n",
              "      flex-wrap:wrap;\n",
              "      gap: 12px;\n",
              "    }\n",
              "\n",
              "    .colab-df-convert {\n",
              "      background-color: #E8F0FE;\n",
              "      border: none;\n",
              "      border-radius: 50%;\n",
              "      cursor: pointer;\n",
              "      display: none;\n",
              "      fill: #1967D2;\n",
              "      height: 32px;\n",
              "      padding: 0 0 0 0;\n",
              "      width: 32px;\n",
              "    }\n",
              "\n",
              "    .colab-df-convert:hover {\n",
              "      background-color: #E2EBFA;\n",
              "      box-shadow: 0px 1px 2px rgba(60, 64, 67, 0.3), 0px 1px 3px 1px rgba(60, 64, 67, 0.15);\n",
              "      fill: #174EA6;\n",
              "    }\n",
              "\n",
              "    [theme=dark] .colab-df-convert {\n",
              "      background-color: #3B4455;\n",
              "      fill: #D2E3FC;\n",
              "    }\n",
              "\n",
              "    [theme=dark] .colab-df-convert:hover {\n",
              "      background-color: #434B5C;\n",
              "      box-shadow: 0px 1px 3px 1px rgba(0, 0, 0, 0.15);\n",
              "      filter: drop-shadow(0px 1px 2px rgba(0, 0, 0, 0.3));\n",
              "      fill: #FFFFFF;\n",
              "    }\n",
              "  </style>\n",
              "\n",
              "      <script>\n",
              "        const buttonEl =\n",
              "          document.querySelector('#df-ee9b9c4e-be1a-4e77-90b8-fb12bfcd9547 button.colab-df-convert');\n",
              "        buttonEl.style.display =\n",
              "          google.colab.kernel.accessAllowed ? 'block' : 'none';\n",
              "\n",
              "        async function convertToInteractive(key) {\n",
              "          const element = document.querySelector('#df-ee9b9c4e-be1a-4e77-90b8-fb12bfcd9547');\n",
              "          const dataTable =\n",
              "            await google.colab.kernel.invokeFunction('convertToInteractive',\n",
              "                                                     [key], {});\n",
              "          if (!dataTable) return;\n",
              "\n",
              "          const docLinkHtml = 'Like what you see? Visit the ' +\n",
              "            '<a target=\"_blank\" href=https://colab.research.google.com/notebooks/data_table.ipynb>data table notebook</a>'\n",
              "            + ' to learn more about interactive tables.';\n",
              "          element.innerHTML = '';\n",
              "          dataTable['output_type'] = 'display_data';\n",
              "          await google.colab.output.renderOutput(dataTable, element);\n",
              "          const docLink = document.createElement('div');\n",
              "          docLink.innerHTML = docLinkHtml;\n",
              "          element.appendChild(docLink);\n",
              "        }\n",
              "      </script>\n",
              "    </div>\n",
              "  </div>\n",
              "  "
            ]
          },
          "metadata": {},
          "execution_count": 4
        }
      ]
    },
    {
      "cell_type": "code",
      "execution_count": null,
      "metadata": {
        "colab": {
          "base_uri": "https://localhost:8080/"
        },
        "id": "LKCB7MP0lIDi",
        "outputId": "7501b20c-5d63-49ee-bc81-f6bfd0263bba"
      },
      "outputs": [
        {
          "output_type": "stream",
          "name": "stdout",
          "text": [
            "<class 'pandas.core.frame.DataFrame'>\n",
            "RangeIndex: 10000 entries, 0 to 9999\n",
            "Data columns (total 14 columns):\n",
            " #   Column           Non-Null Count  Dtype  \n",
            "---  ------           --------------  -----  \n",
            " 0   RowNumber        10000 non-null  int64  \n",
            " 1   CustomerId       10000 non-null  int64  \n",
            " 2   Surname          10000 non-null  object \n",
            " 3   CreditScore      10000 non-null  int64  \n",
            " 4   Geography        10000 non-null  object \n",
            " 5   Gender           10000 non-null  object \n",
            " 6   Age              10000 non-null  int64  \n",
            " 7   Tenure           9091 non-null   float64\n",
            " 8   Balance          10000 non-null  float64\n",
            " 9   NumOfProducts    10000 non-null  int64  \n",
            " 10  HasCrCard        10000 non-null  int64  \n",
            " 11  IsActiveMember   10000 non-null  int64  \n",
            " 12  EstimatedSalary  10000 non-null  float64\n",
            " 13  Exited           10000 non-null  int64  \n",
            "dtypes: float64(3), int64(8), object(3)\n",
            "memory usage: 1.1+ MB\n"
          ]
        }
      ],
      "source": [
        "df.info()"
      ]
    },
    {
      "cell_type": "markdown",
      "metadata": {
        "id": "o2Ykr2UqlIDj"
      },
      "source": [
        "Убираю лишние столбцы и преобразую названия оставшихся столбцов."
      ]
    },
    {
      "cell_type": "code",
      "execution_count": null,
      "metadata": {
        "id": "SHDLRtal1fjt"
      },
      "outputs": [],
      "source": [
        "df = df.drop(['RowNumber','CustomerId','Surname'], axis = 1)"
      ]
    },
    {
      "cell_type": "code",
      "execution_count": null,
      "metadata": {
        "id": "nDJ6hQuwlIDl"
      },
      "outputs": [],
      "source": [
        "#Для удобства преобразую названия признаков\n",
        "df.columns = df.columns.str.lower()\n",
        "df = df.rename(columns = {'creditscore':'credit_score',\n",
        "                          'numofproducts':'num_of_products', 'hascrcard':'has_cr_card', 'isactivemember':'is_active_member',\n",
        "                         'estimatedsalary':'estimated_salary'})"
      ]
    },
    {
      "cell_type": "code",
      "source": [
        "df.corr()"
      ],
      "metadata": {
        "colab": {
          "base_uri": "https://localhost:8080/",
          "height": 332
        },
        "id": "L28HhCnusz1G",
        "outputId": "18396aae-2487-443b-ad0f-489d2b30c37b"
      },
      "execution_count": null,
      "outputs": [
        {
          "output_type": "execute_result",
          "data": {
            "text/plain": [
              "                  credit_score       age    tenure   balance  num_of_products  \\\n",
              "credit_score          1.000000 -0.003965 -0.000062  0.006268         0.012238   \n",
              "age                  -0.003965  1.000000 -0.013134  0.028308        -0.030680   \n",
              "tenure               -0.000062 -0.013134  1.000000 -0.007911         0.011979   \n",
              "balance               0.006268  0.028308 -0.007911  1.000000        -0.304180   \n",
              "num_of_products       0.012238 -0.030680  0.011979 -0.304180         1.000000   \n",
              "has_cr_card          -0.005458 -0.011721  0.027232 -0.014858         0.003183   \n",
              "is_active_member      0.025651  0.085472 -0.032178 -0.010084         0.009612   \n",
              "estimated_salary     -0.001384 -0.007201  0.010520  0.012797         0.014204   \n",
              "exited               -0.027094  0.285323 -0.016761  0.118533        -0.047820   \n",
              "\n",
              "                  has_cr_card  is_active_member  estimated_salary    exited  \n",
              "credit_score        -0.005458          0.025651         -0.001384 -0.027094  \n",
              "age                 -0.011721          0.085472         -0.007201  0.285323  \n",
              "tenure               0.027232         -0.032178          0.010520 -0.016761  \n",
              "balance             -0.014858         -0.010084          0.012797  0.118533  \n",
              "num_of_products      0.003183          0.009612          0.014204 -0.047820  \n",
              "has_cr_card          1.000000         -0.011866         -0.009933 -0.007138  \n",
              "is_active_member    -0.011866          1.000000         -0.011421 -0.156128  \n",
              "estimated_salary    -0.009933         -0.011421          1.000000  0.012097  \n",
              "exited              -0.007138         -0.156128          0.012097  1.000000  "
            ],
            "text/html": [
              "\n",
              "  <div id=\"df-0c399e6e-bfcf-4926-b7c1-19c238b73430\">\n",
              "    <div class=\"colab-df-container\">\n",
              "      <div>\n",
              "<style scoped>\n",
              "    .dataframe tbody tr th:only-of-type {\n",
              "        vertical-align: middle;\n",
              "    }\n",
              "\n",
              "    .dataframe tbody tr th {\n",
              "        vertical-align: top;\n",
              "    }\n",
              "\n",
              "    .dataframe thead th {\n",
              "        text-align: right;\n",
              "    }\n",
              "</style>\n",
              "<table border=\"1\" class=\"dataframe\">\n",
              "  <thead>\n",
              "    <tr style=\"text-align: right;\">\n",
              "      <th></th>\n",
              "      <th>credit_score</th>\n",
              "      <th>age</th>\n",
              "      <th>tenure</th>\n",
              "      <th>balance</th>\n",
              "      <th>num_of_products</th>\n",
              "      <th>has_cr_card</th>\n",
              "      <th>is_active_member</th>\n",
              "      <th>estimated_salary</th>\n",
              "      <th>exited</th>\n",
              "    </tr>\n",
              "  </thead>\n",
              "  <tbody>\n",
              "    <tr>\n",
              "      <th>credit_score</th>\n",
              "      <td>1.000000</td>\n",
              "      <td>-0.003965</td>\n",
              "      <td>-0.000062</td>\n",
              "      <td>0.006268</td>\n",
              "      <td>0.012238</td>\n",
              "      <td>-0.005458</td>\n",
              "      <td>0.025651</td>\n",
              "      <td>-0.001384</td>\n",
              "      <td>-0.027094</td>\n",
              "    </tr>\n",
              "    <tr>\n",
              "      <th>age</th>\n",
              "      <td>-0.003965</td>\n",
              "      <td>1.000000</td>\n",
              "      <td>-0.013134</td>\n",
              "      <td>0.028308</td>\n",
              "      <td>-0.030680</td>\n",
              "      <td>-0.011721</td>\n",
              "      <td>0.085472</td>\n",
              "      <td>-0.007201</td>\n",
              "      <td>0.285323</td>\n",
              "    </tr>\n",
              "    <tr>\n",
              "      <th>tenure</th>\n",
              "      <td>-0.000062</td>\n",
              "      <td>-0.013134</td>\n",
              "      <td>1.000000</td>\n",
              "      <td>-0.007911</td>\n",
              "      <td>0.011979</td>\n",
              "      <td>0.027232</td>\n",
              "      <td>-0.032178</td>\n",
              "      <td>0.010520</td>\n",
              "      <td>-0.016761</td>\n",
              "    </tr>\n",
              "    <tr>\n",
              "      <th>balance</th>\n",
              "      <td>0.006268</td>\n",
              "      <td>0.028308</td>\n",
              "      <td>-0.007911</td>\n",
              "      <td>1.000000</td>\n",
              "      <td>-0.304180</td>\n",
              "      <td>-0.014858</td>\n",
              "      <td>-0.010084</td>\n",
              "      <td>0.012797</td>\n",
              "      <td>0.118533</td>\n",
              "    </tr>\n",
              "    <tr>\n",
              "      <th>num_of_products</th>\n",
              "      <td>0.012238</td>\n",
              "      <td>-0.030680</td>\n",
              "      <td>0.011979</td>\n",
              "      <td>-0.304180</td>\n",
              "      <td>1.000000</td>\n",
              "      <td>0.003183</td>\n",
              "      <td>0.009612</td>\n",
              "      <td>0.014204</td>\n",
              "      <td>-0.047820</td>\n",
              "    </tr>\n",
              "    <tr>\n",
              "      <th>has_cr_card</th>\n",
              "      <td>-0.005458</td>\n",
              "      <td>-0.011721</td>\n",
              "      <td>0.027232</td>\n",
              "      <td>-0.014858</td>\n",
              "      <td>0.003183</td>\n",
              "      <td>1.000000</td>\n",
              "      <td>-0.011866</td>\n",
              "      <td>-0.009933</td>\n",
              "      <td>-0.007138</td>\n",
              "    </tr>\n",
              "    <tr>\n",
              "      <th>is_active_member</th>\n",
              "      <td>0.025651</td>\n",
              "      <td>0.085472</td>\n",
              "      <td>-0.032178</td>\n",
              "      <td>-0.010084</td>\n",
              "      <td>0.009612</td>\n",
              "      <td>-0.011866</td>\n",
              "      <td>1.000000</td>\n",
              "      <td>-0.011421</td>\n",
              "      <td>-0.156128</td>\n",
              "    </tr>\n",
              "    <tr>\n",
              "      <th>estimated_salary</th>\n",
              "      <td>-0.001384</td>\n",
              "      <td>-0.007201</td>\n",
              "      <td>0.010520</td>\n",
              "      <td>0.012797</td>\n",
              "      <td>0.014204</td>\n",
              "      <td>-0.009933</td>\n",
              "      <td>-0.011421</td>\n",
              "      <td>1.000000</td>\n",
              "      <td>0.012097</td>\n",
              "    </tr>\n",
              "    <tr>\n",
              "      <th>exited</th>\n",
              "      <td>-0.027094</td>\n",
              "      <td>0.285323</td>\n",
              "      <td>-0.016761</td>\n",
              "      <td>0.118533</td>\n",
              "      <td>-0.047820</td>\n",
              "      <td>-0.007138</td>\n",
              "      <td>-0.156128</td>\n",
              "      <td>0.012097</td>\n",
              "      <td>1.000000</td>\n",
              "    </tr>\n",
              "  </tbody>\n",
              "</table>\n",
              "</div>\n",
              "      <button class=\"colab-df-convert\" onclick=\"convertToInteractive('df-0c399e6e-bfcf-4926-b7c1-19c238b73430')\"\n",
              "              title=\"Convert this dataframe to an interactive table.\"\n",
              "              style=\"display:none;\">\n",
              "        \n",
              "  <svg xmlns=\"http://www.w3.org/2000/svg\" height=\"24px\"viewBox=\"0 0 24 24\"\n",
              "       width=\"24px\">\n",
              "    <path d=\"M0 0h24v24H0V0z\" fill=\"none\"/>\n",
              "    <path d=\"M18.56 5.44l.94 2.06.94-2.06 2.06-.94-2.06-.94-.94-2.06-.94 2.06-2.06.94zm-11 1L8.5 8.5l.94-2.06 2.06-.94-2.06-.94L8.5 2.5l-.94 2.06-2.06.94zm10 10l.94 2.06.94-2.06 2.06-.94-2.06-.94-.94-2.06-.94 2.06-2.06.94z\"/><path d=\"M17.41 7.96l-1.37-1.37c-.4-.4-.92-.59-1.43-.59-.52 0-1.04.2-1.43.59L10.3 9.45l-7.72 7.72c-.78.78-.78 2.05 0 2.83L4 21.41c.39.39.9.59 1.41.59.51 0 1.02-.2 1.41-.59l7.78-7.78 2.81-2.81c.8-.78.8-2.07 0-2.86zM5.41 20L4 18.59l7.72-7.72 1.47 1.35L5.41 20z\"/>\n",
              "  </svg>\n",
              "      </button>\n",
              "      \n",
              "  <style>\n",
              "    .colab-df-container {\n",
              "      display:flex;\n",
              "      flex-wrap:wrap;\n",
              "      gap: 12px;\n",
              "    }\n",
              "\n",
              "    .colab-df-convert {\n",
              "      background-color: #E8F0FE;\n",
              "      border: none;\n",
              "      border-radius: 50%;\n",
              "      cursor: pointer;\n",
              "      display: none;\n",
              "      fill: #1967D2;\n",
              "      height: 32px;\n",
              "      padding: 0 0 0 0;\n",
              "      width: 32px;\n",
              "    }\n",
              "\n",
              "    .colab-df-convert:hover {\n",
              "      background-color: #E2EBFA;\n",
              "      box-shadow: 0px 1px 2px rgba(60, 64, 67, 0.3), 0px 1px 3px 1px rgba(60, 64, 67, 0.15);\n",
              "      fill: #174EA6;\n",
              "    }\n",
              "\n",
              "    [theme=dark] .colab-df-convert {\n",
              "      background-color: #3B4455;\n",
              "      fill: #D2E3FC;\n",
              "    }\n",
              "\n",
              "    [theme=dark] .colab-df-convert:hover {\n",
              "      background-color: #434B5C;\n",
              "      box-shadow: 0px 1px 3px 1px rgba(0, 0, 0, 0.15);\n",
              "      filter: drop-shadow(0px 1px 2px rgba(0, 0, 0, 0.3));\n",
              "      fill: #FFFFFF;\n",
              "    }\n",
              "  </style>\n",
              "\n",
              "      <script>\n",
              "        const buttonEl =\n",
              "          document.querySelector('#df-0c399e6e-bfcf-4926-b7c1-19c238b73430 button.colab-df-convert');\n",
              "        buttonEl.style.display =\n",
              "          google.colab.kernel.accessAllowed ? 'block' : 'none';\n",
              "\n",
              "        async function convertToInteractive(key) {\n",
              "          const element = document.querySelector('#df-0c399e6e-bfcf-4926-b7c1-19c238b73430');\n",
              "          const dataTable =\n",
              "            await google.colab.kernel.invokeFunction('convertToInteractive',\n",
              "                                                     [key], {});\n",
              "          if (!dataTable) return;\n",
              "\n",
              "          const docLinkHtml = 'Like what you see? Visit the ' +\n",
              "            '<a target=\"_blank\" href=https://colab.research.google.com/notebooks/data_table.ipynb>data table notebook</a>'\n",
              "            + ' to learn more about interactive tables.';\n",
              "          element.innerHTML = '';\n",
              "          dataTable['output_type'] = 'display_data';\n",
              "          await google.colab.output.renderOutput(dataTable, element);\n",
              "          const docLink = document.createElement('div');\n",
              "          docLink.innerHTML = docLinkHtml;\n",
              "          element.appendChild(docLink);\n",
              "        }\n",
              "      </script>\n",
              "    </div>\n",
              "  </div>\n",
              "  "
            ]
          },
          "metadata": {},
          "execution_count": 8
        }
      ]
    },
    {
      "cell_type": "code",
      "execution_count": null,
      "metadata": {
        "id": "ZEEwYiVJlIDo"
      },
      "outputs": [],
      "source": [
        "# Удалю строку с пропусками\n",
        "df = df[df['tenure'].notna()]"
      ]
    },
    {
      "cell_type": "markdown",
      "source": [
        "# Исследовательский анализ данных"
      ],
      "metadata": {
        "id": "1EtZ8avotVX-"
      }
    },
    {
      "cell_type": "code",
      "source": [
        "df"
      ],
      "metadata": {
        "colab": {
          "base_uri": "https://localhost:8080/",
          "height": 424
        },
        "id": "LWZblFQxtYyA",
        "outputId": "bb3460cb-9089-40c9-845f-f9b418e40a83"
      },
      "execution_count": null,
      "outputs": [
        {
          "output_type": "execute_result",
          "data": {
            "text/plain": [
              "      credit_score geography  gender  age  tenure    balance  num_of_products  \\\n",
              "0              619    France  Female   42     2.0       0.00                1   \n",
              "1              608     Spain  Female   41     1.0   83807.86                1   \n",
              "2              502    France  Female   42     8.0  159660.80                3   \n",
              "3              699    France  Female   39     1.0       0.00                2   \n",
              "4              850     Spain  Female   43     2.0  125510.82                1   \n",
              "...            ...       ...     ...  ...     ...        ...              ...   \n",
              "9994           800    France  Female   29     2.0       0.00                2   \n",
              "9995           771    France    Male   39     5.0       0.00                2   \n",
              "9996           516    France    Male   35    10.0   57369.61                1   \n",
              "9997           709    France  Female   36     7.0       0.00                1   \n",
              "9998           772   Germany    Male   42     3.0   75075.31                2   \n",
              "\n",
              "      has_cr_card  is_active_member  estimated_salary  exited  \n",
              "0               1                 1         101348.88       1  \n",
              "1               0                 1         112542.58       0  \n",
              "2               1                 0         113931.57       1  \n",
              "3               0                 0          93826.63       0  \n",
              "4               1                 1          79084.10       0  \n",
              "...           ...               ...               ...     ...  \n",
              "9994            0                 0         167773.55       0  \n",
              "9995            1                 0          96270.64       0  \n",
              "9996            1                 1         101699.77       0  \n",
              "9997            0                 1          42085.58       1  \n",
              "9998            1                 0          92888.52       1  \n",
              "\n",
              "[9091 rows x 11 columns]"
            ],
            "text/html": [
              "\n",
              "  <div id=\"df-a98ec074-1957-414c-87e4-35df1c6d43cc\">\n",
              "    <div class=\"colab-df-container\">\n",
              "      <div>\n",
              "<style scoped>\n",
              "    .dataframe tbody tr th:only-of-type {\n",
              "        vertical-align: middle;\n",
              "    }\n",
              "\n",
              "    .dataframe tbody tr th {\n",
              "        vertical-align: top;\n",
              "    }\n",
              "\n",
              "    .dataframe thead th {\n",
              "        text-align: right;\n",
              "    }\n",
              "</style>\n",
              "<table border=\"1\" class=\"dataframe\">\n",
              "  <thead>\n",
              "    <tr style=\"text-align: right;\">\n",
              "      <th></th>\n",
              "      <th>credit_score</th>\n",
              "      <th>geography</th>\n",
              "      <th>gender</th>\n",
              "      <th>age</th>\n",
              "      <th>tenure</th>\n",
              "      <th>balance</th>\n",
              "      <th>num_of_products</th>\n",
              "      <th>has_cr_card</th>\n",
              "      <th>is_active_member</th>\n",
              "      <th>estimated_salary</th>\n",
              "      <th>exited</th>\n",
              "    </tr>\n",
              "  </thead>\n",
              "  <tbody>\n",
              "    <tr>\n",
              "      <th>0</th>\n",
              "      <td>619</td>\n",
              "      <td>France</td>\n",
              "      <td>Female</td>\n",
              "      <td>42</td>\n",
              "      <td>2.0</td>\n",
              "      <td>0.00</td>\n",
              "      <td>1</td>\n",
              "      <td>1</td>\n",
              "      <td>1</td>\n",
              "      <td>101348.88</td>\n",
              "      <td>1</td>\n",
              "    </tr>\n",
              "    <tr>\n",
              "      <th>1</th>\n",
              "      <td>608</td>\n",
              "      <td>Spain</td>\n",
              "      <td>Female</td>\n",
              "      <td>41</td>\n",
              "      <td>1.0</td>\n",
              "      <td>83807.86</td>\n",
              "      <td>1</td>\n",
              "      <td>0</td>\n",
              "      <td>1</td>\n",
              "      <td>112542.58</td>\n",
              "      <td>0</td>\n",
              "    </tr>\n",
              "    <tr>\n",
              "      <th>2</th>\n",
              "      <td>502</td>\n",
              "      <td>France</td>\n",
              "      <td>Female</td>\n",
              "      <td>42</td>\n",
              "      <td>8.0</td>\n",
              "      <td>159660.80</td>\n",
              "      <td>3</td>\n",
              "      <td>1</td>\n",
              "      <td>0</td>\n",
              "      <td>113931.57</td>\n",
              "      <td>1</td>\n",
              "    </tr>\n",
              "    <tr>\n",
              "      <th>3</th>\n",
              "      <td>699</td>\n",
              "      <td>France</td>\n",
              "      <td>Female</td>\n",
              "      <td>39</td>\n",
              "      <td>1.0</td>\n",
              "      <td>0.00</td>\n",
              "      <td>2</td>\n",
              "      <td>0</td>\n",
              "      <td>0</td>\n",
              "      <td>93826.63</td>\n",
              "      <td>0</td>\n",
              "    </tr>\n",
              "    <tr>\n",
              "      <th>4</th>\n",
              "      <td>850</td>\n",
              "      <td>Spain</td>\n",
              "      <td>Female</td>\n",
              "      <td>43</td>\n",
              "      <td>2.0</td>\n",
              "      <td>125510.82</td>\n",
              "      <td>1</td>\n",
              "      <td>1</td>\n",
              "      <td>1</td>\n",
              "      <td>79084.10</td>\n",
              "      <td>0</td>\n",
              "    </tr>\n",
              "    <tr>\n",
              "      <th>...</th>\n",
              "      <td>...</td>\n",
              "      <td>...</td>\n",
              "      <td>...</td>\n",
              "      <td>...</td>\n",
              "      <td>...</td>\n",
              "      <td>...</td>\n",
              "      <td>...</td>\n",
              "      <td>...</td>\n",
              "      <td>...</td>\n",
              "      <td>...</td>\n",
              "      <td>...</td>\n",
              "    </tr>\n",
              "    <tr>\n",
              "      <th>9994</th>\n",
              "      <td>800</td>\n",
              "      <td>France</td>\n",
              "      <td>Female</td>\n",
              "      <td>29</td>\n",
              "      <td>2.0</td>\n",
              "      <td>0.00</td>\n",
              "      <td>2</td>\n",
              "      <td>0</td>\n",
              "      <td>0</td>\n",
              "      <td>167773.55</td>\n",
              "      <td>0</td>\n",
              "    </tr>\n",
              "    <tr>\n",
              "      <th>9995</th>\n",
              "      <td>771</td>\n",
              "      <td>France</td>\n",
              "      <td>Male</td>\n",
              "      <td>39</td>\n",
              "      <td>5.0</td>\n",
              "      <td>0.00</td>\n",
              "      <td>2</td>\n",
              "      <td>1</td>\n",
              "      <td>0</td>\n",
              "      <td>96270.64</td>\n",
              "      <td>0</td>\n",
              "    </tr>\n",
              "    <tr>\n",
              "      <th>9996</th>\n",
              "      <td>516</td>\n",
              "      <td>France</td>\n",
              "      <td>Male</td>\n",
              "      <td>35</td>\n",
              "      <td>10.0</td>\n",
              "      <td>57369.61</td>\n",
              "      <td>1</td>\n",
              "      <td>1</td>\n",
              "      <td>1</td>\n",
              "      <td>101699.77</td>\n",
              "      <td>0</td>\n",
              "    </tr>\n",
              "    <tr>\n",
              "      <th>9997</th>\n",
              "      <td>709</td>\n",
              "      <td>France</td>\n",
              "      <td>Female</td>\n",
              "      <td>36</td>\n",
              "      <td>7.0</td>\n",
              "      <td>0.00</td>\n",
              "      <td>1</td>\n",
              "      <td>0</td>\n",
              "      <td>1</td>\n",
              "      <td>42085.58</td>\n",
              "      <td>1</td>\n",
              "    </tr>\n",
              "    <tr>\n",
              "      <th>9998</th>\n",
              "      <td>772</td>\n",
              "      <td>Germany</td>\n",
              "      <td>Male</td>\n",
              "      <td>42</td>\n",
              "      <td>3.0</td>\n",
              "      <td>75075.31</td>\n",
              "      <td>2</td>\n",
              "      <td>1</td>\n",
              "      <td>0</td>\n",
              "      <td>92888.52</td>\n",
              "      <td>1</td>\n",
              "    </tr>\n",
              "  </tbody>\n",
              "</table>\n",
              "<p>9091 rows × 11 columns</p>\n",
              "</div>\n",
              "      <button class=\"colab-df-convert\" onclick=\"convertToInteractive('df-a98ec074-1957-414c-87e4-35df1c6d43cc')\"\n",
              "              title=\"Convert this dataframe to an interactive table.\"\n",
              "              style=\"display:none;\">\n",
              "        \n",
              "  <svg xmlns=\"http://www.w3.org/2000/svg\" height=\"24px\"viewBox=\"0 0 24 24\"\n",
              "       width=\"24px\">\n",
              "    <path d=\"M0 0h24v24H0V0z\" fill=\"none\"/>\n",
              "    <path d=\"M18.56 5.44l.94 2.06.94-2.06 2.06-.94-2.06-.94-.94-2.06-.94 2.06-2.06.94zm-11 1L8.5 8.5l.94-2.06 2.06-.94-2.06-.94L8.5 2.5l-.94 2.06-2.06.94zm10 10l.94 2.06.94-2.06 2.06-.94-2.06-.94-.94-2.06-.94 2.06-2.06.94z\"/><path d=\"M17.41 7.96l-1.37-1.37c-.4-.4-.92-.59-1.43-.59-.52 0-1.04.2-1.43.59L10.3 9.45l-7.72 7.72c-.78.78-.78 2.05 0 2.83L4 21.41c.39.39.9.59 1.41.59.51 0 1.02-.2 1.41-.59l7.78-7.78 2.81-2.81c.8-.78.8-2.07 0-2.86zM5.41 20L4 18.59l7.72-7.72 1.47 1.35L5.41 20z\"/>\n",
              "  </svg>\n",
              "      </button>\n",
              "      \n",
              "  <style>\n",
              "    .colab-df-container {\n",
              "      display:flex;\n",
              "      flex-wrap:wrap;\n",
              "      gap: 12px;\n",
              "    }\n",
              "\n",
              "    .colab-df-convert {\n",
              "      background-color: #E8F0FE;\n",
              "      border: none;\n",
              "      border-radius: 50%;\n",
              "      cursor: pointer;\n",
              "      display: none;\n",
              "      fill: #1967D2;\n",
              "      height: 32px;\n",
              "      padding: 0 0 0 0;\n",
              "      width: 32px;\n",
              "    }\n",
              "\n",
              "    .colab-df-convert:hover {\n",
              "      background-color: #E2EBFA;\n",
              "      box-shadow: 0px 1px 2px rgba(60, 64, 67, 0.3), 0px 1px 3px 1px rgba(60, 64, 67, 0.15);\n",
              "      fill: #174EA6;\n",
              "    }\n",
              "\n",
              "    [theme=dark] .colab-df-convert {\n",
              "      background-color: #3B4455;\n",
              "      fill: #D2E3FC;\n",
              "    }\n",
              "\n",
              "    [theme=dark] .colab-df-convert:hover {\n",
              "      background-color: #434B5C;\n",
              "      box-shadow: 0px 1px 3px 1px rgba(0, 0, 0, 0.15);\n",
              "      filter: drop-shadow(0px 1px 2px rgba(0, 0, 0, 0.3));\n",
              "      fill: #FFFFFF;\n",
              "    }\n",
              "  </style>\n",
              "\n",
              "      <script>\n",
              "        const buttonEl =\n",
              "          document.querySelector('#df-a98ec074-1957-414c-87e4-35df1c6d43cc button.colab-df-convert');\n",
              "        buttonEl.style.display =\n",
              "          google.colab.kernel.accessAllowed ? 'block' : 'none';\n",
              "\n",
              "        async function convertToInteractive(key) {\n",
              "          const element = document.querySelector('#df-a98ec074-1957-414c-87e4-35df1c6d43cc');\n",
              "          const dataTable =\n",
              "            await google.colab.kernel.invokeFunction('convertToInteractive',\n",
              "                                                     [key], {});\n",
              "          if (!dataTable) return;\n",
              "\n",
              "          const docLinkHtml = 'Like what you see? Visit the ' +\n",
              "            '<a target=\"_blank\" href=https://colab.research.google.com/notebooks/data_table.ipynb>data table notebook</a>'\n",
              "            + ' to learn more about interactive tables.';\n",
              "          element.innerHTML = '';\n",
              "          dataTable['output_type'] = 'display_data';\n",
              "          await google.colab.output.renderOutput(dataTable, element);\n",
              "          const docLink = document.createElement('div');\n",
              "          docLink.innerHTML = docLinkHtml;\n",
              "          element.appendChild(docLink);\n",
              "        }\n",
              "      </script>\n",
              "    </div>\n",
              "  </div>\n",
              "  "
            ]
          },
          "metadata": {},
          "execution_count": 10
        }
      ]
    },
    {
      "cell_type": "code",
      "source": [
        "#Рассмотрю распределение кредитного рейтинга клиентов в выборке\n",
        "df.credit_score.plot(kind = 'hist')\n",
        "plt.show()\n",
        "df.credit_score.plot(kind = 'box', vert=False)\n",
        "plt.show()"
      ],
      "metadata": {
        "colab": {
          "base_uri": "https://localhost:8080/",
          "height": 513
        },
        "id": "mBneM_YQtUjO",
        "outputId": "c47ae3fe-4de2-4880-a706-07cdb26f24d2"
      },
      "execution_count": null,
      "outputs": [
        {
          "output_type": "display_data",
          "data": {
            "text/plain": [
              "<Figure size 432x288 with 1 Axes>"
            ],
            "image/png": "[encoded data removed]"
          },
          "metadata": {
            "needs_background": "light"
          }
        },
        {
          "output_type": "display_data",
          "data": {
            "text/plain": [
              "<Figure size 432x288 with 1 Axes>"
            ],
            "image/png": "[encoded data removed]"
          },
          "metadata": {
            "needs_background": "light"
          }
        }
      ]
    },
    {
      "cell_type": "code",
      "source": [
        "df.geography.value_counts()"
      ],
      "metadata": {
        "colab": {
          "base_uri": "https://localhost:8080/"
        },
        "id": "pvClysrnukEf",
        "outputId": "45b532ae-de6e-4dc7-ab54-3fcb3960de32"
      },
      "execution_count": null,
      "outputs": [
        {
          "output_type": "execute_result",
          "data": {
            "text/plain": [
              "France     4550\n",
              "Germany    2293\n",
              "Spain      2248\n",
              "Name: geography, dtype: int64"
            ]
          },
          "metadata": {},
          "execution_count": 12
        }
      ]
    },
    {
      "cell_type": "code",
      "source": [
        "#Рассмотрю распределение лет\n",
        "df.tenure.plot(kind = 'hist')\n",
        "plt.show()\n",
        "df.tenure.plot(kind = 'box', vert=False)\n",
        "plt.show()"
      ],
      "metadata": {
        "id": "rnRz_INxugrm",
        "colab": {
          "base_uri": "https://localhost:8080/",
          "height": 513
        },
        "outputId": "4cd6be93-b993-4ec2-c6d6-ccebe14c020e"
      },
      "execution_count": null,
      "outputs": [
        {
          "output_type": "display_data",
          "data": {
            "text/plain": [
              "<Figure size 432x288 with 1 Axes>"
            ],
            "image/png": "[encoded data removed]"
          },
          "metadata": {
            "needs_background": "light"
          }
        },
        {
          "output_type": "display_data",
          "data": {
            "text/plain": [
              "<Figure size 432x288 with 1 Axes>"
            ],
            "image/png": "[encoded data removed]"
          },
          "metadata": {
            "needs_background": "light"
          }
        }
      ]
    },
    {
      "cell_type": "code",
      "source": [
        "#Рассмотрю распределение лет\n",
        "df.balance.plot(kind = 'hist')\n",
        "plt.show()\n",
        "df.balance.plot(kind = 'box', vert=False)\n",
        "plt.show()"
      ],
      "metadata": {
        "colab": {
          "base_uri": "https://localhost:8080/",
          "height": 513
        },
        "id": "FKRtjaW-1iWx",
        "outputId": "67a86ba5-26c9-4ad3-b3ea-c8d668ca6b0d"
      },
      "execution_count": null,
      "outputs": [
        {
          "output_type": "display_data",
          "data": {
            "text/plain": [
              "<Figure size 432x288 with 1 Axes>"
            ],
            "image/png": "[encoded data removed]"
          },
          "metadata": {
            "needs_background": "light"
          }
        },
        {
          "output_type": "display_data",
          "data": {
            "text/plain": [
              "<Figure size 432x288 with 1 Axes>"
            ],
            "image/png": "[encoded data removed]"
          },
          "metadata": {
            "needs_background": "light"
          }
        }
      ]
    },
    {
      "cell_type": "code",
      "execution_count": null,
      "metadata": {
        "id": "7hSWIu4fqy8W",
        "outputId": "60c22ee9-94fd-4da2-c767-39b9ef6ac500",
        "colab": {
          "base_uri": "https://localhost:8080/"
        }
      },
      "outputs": [
        {
          "output_type": "execute_result",
          "data": {
            "text/plain": [
              "0    7237\n",
              "1    1854\n",
              "Name: exited, dtype: int64"
            ]
          },
          "metadata": {},
          "execution_count": 15
        }
      ],
      "source": [
        "disbalance = df.exited.value_counts()\n",
        "disbalance"
      ]
    },
    {
      "cell_type": "code",
      "execution_count": null,
      "metadata": {
        "id": "NcRaKpxjqy8X",
        "outputId": "f09406e3-c404-48ca-af40-cbab9f0cadf5",
        "colab": {
          "base_uri": "https://localhost:8080/",
          "height": 427
        }
      },
      "outputs": [
        {
          "output_type": "display_data",
          "data": {
            "text/plain": [
              "<Figure size 504x504 with 1 Axes>"
            ],
            "image/png": "[encoded data removed]"
          },
          "metadata": {}
        }
      ],
      "source": [
        "disbalance.plot(kind='pie',figsize = (7,7))\n",
        "plt.title('Соотношение классов');"
      ]
    },
    {
      "cell_type": "markdown",
      "source": [
        "Явных аномалий и выбросов нет. Дисбаланс дальше устраним"
      ],
      "metadata": {
        "id": "bSZXmvdA1tR4"
      }
    },
    {
      "cell_type": "markdown",
      "metadata": {
        "id": "c-7BE2I4lIDp"
      },
      "source": [
        "# Подбор модели"
      ]
    },
    {
      "cell_type": "markdown",
      "metadata": {
        "id": "4F_-w0F87ygQ"
      },
      "source": [
        "Преобразую категориальные признаки (Geography, Gender) в численные."
      ]
    },
    {
      "cell_type": "code",
      "execution_count": null,
      "metadata": {
        "id": "wZ8XNm6mlIDq"
      },
      "outputs": [],
      "source": [
        "df = pd.get_dummies(df, drop_first=True)"
      ]
    },
    {
      "cell_type": "code",
      "execution_count": null,
      "metadata": {
        "id": "aLebUsZWqy8K"
      },
      "outputs": [],
      "source": [
        "RANDOM_STATE = 12345"
      ]
    },
    {
      "cell_type": "code",
      "execution_count": null,
      "metadata": {
        "id": "k5VN0-gvlIDr"
      },
      "outputs": [],
      "source": [
        "#разделю данные на выборки\n",
        "target = df['exited']\n",
        "features = df.drop('exited', axis=1)\n",
        "\n",
        "features_train, features_test, target_train, target_test = train_test_split(\n",
        "    features, target, stratify = target, test_size=0.25, random_state=RANDOM_STATE)\n"
      ]
    },
    {
      "cell_type": "markdown",
      "metadata": {
        "id": "0v6p4-wku3tK"
      },
      "source": [
        "В предосталенных данных есть дисбаланс классов. Отрицательных классов в 3 раза больше. Решим эту проблему."
      ]
    },
    {
      "cell_type": "code",
      "execution_count": null,
      "metadata": {
        "id": "fTSYMYve5PTM"
      },
      "outputs": [],
      "source": [
        "def upsample(features, target, repeat):\n",
        "    features_zeros = features[target == 0]\n",
        "    features_ones = features[target == 1]\n",
        "    target_zeros = target[target == 0]\n",
        "    target_ones = target[target == 1]\n",
        "\n",
        "    features_upsampled = pd.concat([features_zeros] + [features_ones] * repeat)\n",
        "    target_upsampled = pd.concat([target_zeros] + [target_ones] * repeat)\n",
        "    \n",
        "    features_upsampled, target_upsampled = shuffle(\n",
        "        features_upsampled, target_upsampled, random_state=12345)\n",
        "    \n",
        "    return features_upsampled, target_upsampled\n",
        "\n",
        "features_train, target_train = upsample(features_train, target_train, 4)\n"
      ]
    },
    {
      "cell_type": "code",
      "execution_count": null,
      "metadata": {
        "id": "julgeG0aqy8a",
        "outputId": "e325b356-7e14-4962-961d-e95701c79874",
        "colab": {
          "base_uri": "https://localhost:8080/"
        }
      },
      "outputs": [
        {
          "output_type": "execute_result",
          "data": {
            "text/plain": [
              "1    5560\n",
              "0    5428\n",
              "Name: exited, dtype: int64"
            ]
          },
          "metadata": {},
          "execution_count": 21
        }
      ],
      "source": [
        "target_train.value_counts()"
      ]
    },
    {
      "cell_type": "markdown",
      "metadata": {
        "id": "AdVfgB5nuhmD"
      },
      "source": [
        "## Логистическая Регрессия"
      ]
    },
    {
      "cell_type": "code",
      "execution_count": null,
      "metadata": {
        "colab": {
          "base_uri": "https://localhost:8080/"
        },
        "id": "Rfts9LLAlIDu",
        "outputId": "17eb5267-1cce-475c-e1da-c93165878452"
      },
      "outputs": [
        {
          "output_type": "stream",
          "name": "stdout",
          "text": [
            "Случайный лес, f1 = 0.45504840940525587 , auc_roc =  0.6740394054631059\n"
          ]
        }
      ],
      "source": [
        "M_LR = LogisticRegression(random_state=12345, solver='liblinear', max_iter=100)\n",
        "M_LR.fit(features_train, target_train)\n",
        "predicted_LR = M_LR.predict(features_test)\n",
        "f1 = f1_score(target_test, predicted_LR)\n",
        "auc_roc = roc_auc_score(target_test, predicted_LR)\n",
        "\n",
        "print('Случайный лес, f1 =', f1, ', auc_roc = ', auc_roc)"
      ]
    },
    {
      "cell_type": "markdown",
      "metadata": {
        "id": "XTxuLJynsuk4"
      },
      "source": [
        "## Дерево решений"
      ]
    },
    {
      "cell_type": "code",
      "source": [
        "param = {'max_depth': [1,3,5,7,9,10,15]}\n",
        "dtc = DecisionTreeClassifier(random_state=RANDOM_STATE)\n",
        "search = GridSearchCV(dtc, param, scoring='f1', cv=3)\n",
        "search.fit(features_train, target_train)\n",
        "print(search.best_params_)\n",
        "print(search.best_score_)"
      ],
      "metadata": {
        "colab": {
          "base_uri": "https://localhost:8080/"
        },
        "id": "KvY7x8Ad84N8",
        "outputId": "1c569b5c-ffe8-4a52-fd66-686d1cf803c3"
      },
      "execution_count": null,
      "outputs": [
        {
          "output_type": "stream",
          "name": "stdout",
          "text": [
            "{'max_depth': 15}\n",
            "0.9033571394470821\n"
          ]
        }
      ]
    },
    {
      "cell_type": "code",
      "execution_count": null,
      "metadata": {
        "colab": {
          "base_uri": "https://localhost:8080/"
        },
        "id": "JjLMoMkMlIDs",
        "outputId": "8797a5e2-e31f-4e6f-e7b6-04cff7261de7"
      },
      "outputs": [
        {
          "output_type": "stream",
          "name": "stdout",
          "text": [
            "Дерево решений, f1 = 0.521484375 , auc_roc =  0.7067315481977088\n"
          ]
        }
      ],
      "source": [
        "dtc = DecisionTreeClassifier(random_state=RANDOM_STATE, max_depth = 15)\n",
        "dtc.fit(features_train, target_train)\n",
        "predicted_dtc = dtc.predict(features_test)\n",
        "f1 = f1_score(target_test, predicted_dtc)\n",
        "auc_roc = roc_auc_score(target_test, predicted_dtc)\n",
        "\n",
        "print('Дерево решений, f1 =', f1, ', auc_roc = ', auc_roc)"
      ]
    },
    {
      "cell_type": "markdown",
      "metadata": {
        "id": "RO17SCM6ucUN"
      },
      "source": [
        "## Случайный лес"
      ]
    },
    {
      "cell_type": "code",
      "execution_count": null,
      "metadata": {
        "colab": {
          "base_uri": "https://localhost:8080/"
        },
        "id": "j3qofkubmlLc",
        "outputId": "6c174add-5ab3-4d82-982d-43948867333b"
      },
      "outputs": [
        {
          "output_type": "stream",
          "name": "stdout",
          "text": [
            "{'max_depth': 30, 'n_estimators': 50}\n",
            "0.9466745952237186\n"
          ]
        }
      ],
      "source": [
        "param = {'max_depth': [1,5,15,20,30],\n",
        "         'n_estimators': [10,50,100]}\n",
        "M_RF = RandomForestClassifier(random_state=RANDOM_STATE)\n",
        "search = GridSearchCV(M_RF, param, scoring='f1', cv=3)\n",
        "search.fit(features_train, target_train)\n",
        "print(search.best_params_)\n",
        "print(search.best_score_)"
      ]
    },
    {
      "cell_type": "code",
      "source": [
        "M_RF = RandomForestClassifier(max_depth = 30, n_estimators = 50,random_state=RANDOM_STATE)\n",
        "M_RF.fit(features_train, target_train)\n",
        "predicted_rf = dtc.predict(features_test)\n",
        "\n",
        "f1 = f1_score(target_test, predicted_rf)\n",
        "auc_roc = roc_auc_score(target_test, predicted_rf)\n",
        "\n",
        "print('Случайный лес, f1 =', f1, ', auc_roc = ', auc_roc)"
      ],
      "metadata": {
        "colab": {
          "base_uri": "https://localhost:8080/"
        },
        "id": "OT6i1cd836fT",
        "outputId": "9d052392-18fc-4648-909d-cfe9eb04729c"
      },
      "execution_count": null,
      "outputs": [
        {
          "output_type": "stream",
          "name": "stdout",
          "text": [
            "Случайный лес, f1 = 0.521484375 , auc_roc =  0.7067315481977088\n"
          ]
        }
      ]
    },
    {
      "cell_type": "markdown",
      "source": [
        "## CatBoost"
      ],
      "metadata": {
        "id": "Jjdm_wXl9M8D"
      }
    },
    {
      "cell_type": "code",
      "source": [
        "params = {'depth':[3,6,10],\n",
        "          'iterations':[250,100],\n",
        "          'learning_rate':[0.1,0.3]}\n",
        "M_CB = cb.CatBoostClassifier(random_state=RANDOM_STATE, task_type = 'GPU', silent = True)\n",
        "search = GridSearchCV(M_CB, params, scoring='f1', cv=3)\n",
        "search.fit(features_train, target_train)\n",
        "print(search.best_params_)\n",
        "print(search.best_score_)"
      ],
      "metadata": {
        "colab": {
          "base_uri": "https://localhost:8080/"
        },
        "id": "DXOUzpdx9Mlz",
        "outputId": "ba43af19-c1c8-4526-cc08-e1a2bc9a727a"
      },
      "execution_count": null,
      "outputs": [
        {
          "output_type": "stream",
          "name": "stdout",
          "text": [
            "{'depth': 10, 'iterations': 250, 'learning_rate': 0.3}\n",
            "0.9441627089699726\n"
          ]
        }
      ]
    },
    {
      "cell_type": "code",
      "source": [
        "M_CB = cb.CatBoostClassifier(depth = 10, iterations = 250, learning_rate = 0.3, random_state=RANDOM_STATE, task_type = 'GPU', silent = True)\n",
        "M_CB.fit(features_train, target_train)\n",
        "predicted_rf = M_CB.predict(features_test)\n",
        "\n",
        "f1 = f1_score(target_test, predicted_rf)\n",
        "auc_roc = roc_auc_score(target_test, predicted_rf)\n",
        "\n",
        "print('Случайный лес, f1 =', f1, ', auc_roc = ', auc_roc)"
      ],
      "metadata": {
        "colab": {
          "base_uri": "https://localhost:8080/"
        },
        "id": "QiBYeLR696p6",
        "outputId": "793f0fb2-4e53-43e5-df10-decd371c2b33"
      },
      "execution_count": null,
      "outputs": [
        {
          "output_type": "stream",
          "name": "stdout",
          "text": [
            "Случайный лес, f1 = 0.5819861431870671 , auc_roc =  0.7300923543203524\n"
          ]
        }
      ]
    },
    {
      "cell_type": "markdown",
      "metadata": {
        "id": "Onp--v5nFgE9"
      },
      "source": [
        "Промежуточные выводы:\n",
        "1. Преобразованы категориальные признаки в численные.\n",
        "2. Обучены модели - дерево решений, случайный лес, логистическая регрессия CatBost.\n",
        "3. Лучший показатель f1 у модели CatBoost = 0.58"
      ]
    },
    {
      "cell_type": "markdown",
      "metadata": {
        "id": "Zk2eZNuaut0K"
      },
      "source": [
        "## Выводы"
      ]
    },
    {
      "cell_type": "markdown",
      "metadata": {
        "id": "XeNYPjtru2Xa"
      },
      "source": [
        "1. Обработаны полученные данные:\n",
        "- Удалены ненужные столбцы;\n",
        "- Удалены объекты с пропущенными данными.\n",
        "2. Устранен дисбаланс классов:\n",
        "- Проведено масштабирование признаков;\n",
        "- Увеличина выборка положительных объектов;\n",
        "- уменьшена выборка отрицательных объектов.\n",
        "3. Проведено обучение на равзных моделях с подбором отпимальных гиперпараметров.\n",
        "5. Лучший результат показала модель CatBoost с значениями f1 = 0.58.\n"
      ]
    }
  ],
  "metadata": {
    "ExecuteTimeLog": [
      {
        "duration": 2179,
        "start_time": "2022-05-23T05:40:20.586Z"
      },
      {
        "duration": 244,
        "start_time": "2022-05-23T05:41:07.647Z"
      },
      {
        "duration": 151,
        "start_time": "2022-05-23T05:41:15.755Z"
      },
      {
        "duration": 23,
        "start_time": "2022-05-23T05:41:33.261Z"
      },
      {
        "duration": 96,
        "start_time": "2022-05-23T05:46:34.883Z"
      },
      {
        "duration": 13,
        "start_time": "2022-05-23T05:46:35.325Z"
      },
      {
        "duration": 154,
        "start_time": "2022-05-23T05:46:36.087Z"
      },
      {
        "duration": 4,
        "start_time": "2022-05-23T05:47:09.297Z"
      },
      {
        "duration": 6,
        "start_time": "2022-05-23T05:52:01.984Z"
      },
      {
        "duration": 24,
        "start_time": "2022-05-23T05:52:08.404Z"
      },
      {
        "duration": 5,
        "start_time": "2022-05-23T05:56:51.075Z"
      },
      {
        "duration": 6,
        "start_time": "2022-05-23T05:58:15.923Z"
      },
      {
        "duration": 20,
        "start_time": "2022-05-23T05:58:33.587Z"
      },
      {
        "duration": 12,
        "start_time": "2022-05-23T05:58:56.955Z"
      },
      {
        "duration": 131,
        "start_time": "2022-05-23T05:58:57.859Z"
      },
      {
        "duration": 31,
        "start_time": "2022-05-23T05:58:58.654Z"
      },
      {
        "duration": 6,
        "start_time": "2022-05-23T05:59:00.579Z"
      },
      {
        "duration": 15,
        "start_time": "2022-05-23T05:59:00.855Z"
      },
      {
        "duration": 26,
        "start_time": "2022-05-23T05:59:01.082Z"
      },
      {
        "duration": 13,
        "start_time": "2022-05-23T05:59:02.356Z"
      },
      {
        "duration": 32,
        "start_time": "2022-05-23T05:59:03.067Z"
      },
      {
        "duration": 12,
        "start_time": "2022-05-23T06:01:08.506Z"
      },
      {
        "duration": 4,
        "start_time": "2022-05-23T06:01:25.982Z"
      },
      {
        "duration": 56,
        "start_time": "2022-05-23T06:01:42.609Z"
      },
      {
        "duration": 80,
        "start_time": "2022-05-23T06:02:13.403Z"
      },
      {
        "duration": 5,
        "start_time": "2022-05-23T06:02:33.889Z"
      },
      {
        "duration": 41,
        "start_time": "2022-05-23T06:02:43.252Z"
      },
      {
        "duration": 15,
        "start_time": "2022-05-23T06:03:18.967Z"
      },
      {
        "duration": 60,
        "start_time": "2022-05-23T06:03:27.810Z"
      },
      {
        "duration": 6,
        "start_time": "2022-05-23T06:03:32.802Z"
      },
      {
        "duration": 64,
        "start_time": "2022-05-23T06:03:53.008Z"
      },
      {
        "duration": 24,
        "start_time": "2022-05-23T06:07:33.051Z"
      },
      {
        "duration": 59,
        "start_time": "2022-05-23T06:07:38.118Z"
      },
      {
        "duration": 15,
        "start_time": "2022-05-23T06:08:41.623Z"
      },
      {
        "duration": 410,
        "start_time": "2022-05-23T06:11:23.185Z"
      },
      {
        "duration": 124,
        "start_time": "2022-05-23T06:11:23.667Z"
      },
      {
        "duration": 176,
        "start_time": "2022-05-23T06:11:24.925Z"
      },
      {
        "duration": 394,
        "start_time": "2022-05-23T06:11:25.806Z"
      },
      {
        "duration": 172,
        "start_time": "2022-05-23T06:13:30.223Z"
      },
      {
        "duration": 82,
        "start_time": "2022-05-23T06:13:34.019Z"
      },
      {
        "duration": 27,
        "start_time": "2022-05-23T06:13:34.263Z"
      },
      {
        "duration": 148,
        "start_time": "2022-05-23T06:13:34.519Z"
      },
      {
        "duration": 2685,
        "start_time": "2022-05-23T06:13:35.183Z"
      },
      {
        "duration": 2460,
        "start_time": "2022-05-23T06:13:45.325Z"
      },
      {
        "duration": 2479,
        "start_time": "2022-05-23T06:14:11.004Z"
      },
      {
        "duration": 1929,
        "start_time": "2022-05-23T06:17:31.065Z"
      },
      {
        "duration": 109,
        "start_time": "2022-05-23T06:17:32.997Z"
      },
      {
        "duration": 74,
        "start_time": "2022-05-23T06:17:33.107Z"
      },
      {
        "duration": 17,
        "start_time": "2022-05-23T06:17:33.183Z"
      },
      {
        "duration": 72,
        "start_time": "2022-05-23T06:17:33.203Z"
      },
      {
        "duration": 19,
        "start_time": "2022-05-23T06:17:33.277Z"
      },
      {
        "duration": 387,
        "start_time": "2022-05-23T06:17:33.298Z"
      },
      {
        "duration": 119,
        "start_time": "2022-05-23T06:17:33.688Z"
      },
      {
        "duration": 181,
        "start_time": "2022-05-23T06:17:33.809Z"
      },
      {
        "duration": 2290,
        "start_time": "2022-05-23T06:17:33.992Z"
      },
      {
        "duration": 1452,
        "start_time": "2022-05-25T21:30:19.596Z"
      },
      {
        "duration": 116,
        "start_time": "2022-05-25T21:30:22.196Z"
      },
      {
        "duration": 11,
        "start_time": "2022-05-25T21:31:48.855Z"
      },
      {
        "duration": 78,
        "start_time": "2022-05-25T21:31:59.224Z"
      },
      {
        "duration": 26,
        "start_time": "2022-05-25T21:32:23.847Z"
      },
      {
        "duration": 12,
        "start_time": "2022-05-25T21:32:24.808Z"
      },
      {
        "duration": 4,
        "start_time": "2022-05-25T21:32:26.714Z"
      },
      {
        "duration": 6,
        "start_time": "2022-05-25T21:32:29.240Z"
      },
      {
        "duration": 4,
        "start_time": "2022-05-25T21:32:31.282Z"
      },
      {
        "duration": 11,
        "start_time": "2022-05-25T21:32:39.239Z"
      },
      {
        "duration": 105,
        "start_time": "2022-05-25T21:32:46.341Z"
      },
      {
        "duration": 21,
        "start_time": "2022-05-25T21:34:53.164Z"
      },
      {
        "duration": 11,
        "start_time": "2022-05-25T21:39:34.681Z"
      },
      {
        "duration": 2,
        "start_time": "2022-05-25T21:40:03.773Z"
      },
      {
        "duration": 29,
        "start_time": "2022-05-25T21:40:14.440Z"
      },
      {
        "duration": 10,
        "start_time": "2022-05-25T21:40:34.609Z"
      },
      {
        "duration": 39,
        "start_time": "2022-05-25T21:41:34.116Z"
      },
      {
        "duration": 22,
        "start_time": "2022-05-25T21:41:35.153Z"
      },
      {
        "duration": 11,
        "start_time": "2022-05-25T21:41:35.353Z"
      },
      {
        "duration": 4,
        "start_time": "2022-05-25T21:41:35.756Z"
      },
      {
        "duration": 5,
        "start_time": "2022-05-25T21:41:36.208Z"
      },
      {
        "duration": 4,
        "start_time": "2022-05-25T21:41:37.029Z"
      },
      {
        "duration": 10,
        "start_time": "2022-05-25T21:41:39.051Z"
      },
      {
        "duration": 2,
        "start_time": "2022-05-25T21:41:39.941Z"
      },
      {
        "duration": 12,
        "start_time": "2022-05-25T21:41:41.101Z"
      },
      {
        "duration": 332,
        "start_time": "2022-05-25T21:41:45.291Z"
      },
      {
        "duration": 6,
        "start_time": "2022-05-25T21:42:18.404Z"
      },
      {
        "duration": 1137,
        "start_time": "2022-05-25T21:42:32.691Z"
      },
      {
        "duration": 354,
        "start_time": "2022-05-25T21:43:51.322Z"
      },
      {
        "duration": 9,
        "start_time": "2022-05-25T21:44:04.399Z"
      },
      {
        "duration": 3,
        "start_time": "2022-05-25T21:44:24.863Z"
      },
      {
        "duration": 2,
        "start_time": "2022-05-25T21:44:25.155Z"
      },
      {
        "duration": 1361,
        "start_time": "2022-05-26T04:10:11.956Z"
      },
      {
        "duration": 188,
        "start_time": "2022-05-26T04:10:16.159Z"
      },
      {
        "duration": 28,
        "start_time": "2022-05-26T04:10:17.774Z"
      },
      {
        "duration": 14,
        "start_time": "2022-05-26T04:10:18.231Z"
      },
      {
        "duration": 5,
        "start_time": "2022-05-26T04:10:19.422Z"
      },
      {
        "duration": 6,
        "start_time": "2022-05-26T04:10:20.181Z"
      },
      {
        "duration": 5,
        "start_time": "2022-05-26T04:10:22.382Z"
      },
      {
        "duration": 13,
        "start_time": "2022-05-26T04:10:24.841Z"
      },
      {
        "duration": 3,
        "start_time": "2022-05-26T04:10:26.554Z"
      },
      {
        "duration": 13,
        "start_time": "2022-05-26T04:10:28.030Z"
      },
      {
        "duration": 191,
        "start_time": "2022-05-26T04:10:33.242Z"
      },
      {
        "duration": 1211,
        "start_time": "2022-05-26T04:10:35.867Z"
      },
      {
        "duration": 321,
        "start_time": "2022-05-26T04:10:40.625Z"
      },
      {
        "duration": 10,
        "start_time": "2022-05-26T04:11:04.730Z"
      },
      {
        "duration": 1202,
        "start_time": "2022-05-26T04:11:45.479Z"
      },
      {
        "duration": 27,
        "start_time": "2022-05-26T04:11:51.142Z"
      },
      {
        "duration": 31,
        "start_time": "2022-05-26T04:13:59.387Z"
      },
      {
        "duration": 271,
        "start_time": "2022-05-26T04:36:03.888Z"
      },
      {
        "duration": 1135,
        "start_time": "2022-05-26T04:56:42.920Z"
      },
      {
        "duration": 122,
        "start_time": "2022-05-26T04:56:44.056Z"
      },
      {
        "duration": 26,
        "start_time": "2022-05-26T04:56:44.179Z"
      },
      {
        "duration": 19,
        "start_time": "2022-05-26T04:56:44.207Z"
      },
      {
        "duration": 12,
        "start_time": "2022-05-26T04:56:44.228Z"
      },
      {
        "duration": 14,
        "start_time": "2022-05-26T04:56:44.241Z"
      },
      {
        "duration": 15,
        "start_time": "2022-05-26T04:56:44.256Z"
      },
      {
        "duration": 19,
        "start_time": "2022-05-26T04:56:44.272Z"
      },
      {
        "duration": 3,
        "start_time": "2022-05-26T04:56:44.292Z"
      },
      {
        "duration": 13,
        "start_time": "2022-05-26T04:56:44.298Z"
      },
      {
        "duration": 226,
        "start_time": "2022-05-26T04:56:44.313Z"
      },
      {
        "duration": 1213,
        "start_time": "2022-05-26T04:56:44.541Z"
      },
      {
        "duration": 318,
        "start_time": "2022-05-26T04:56:45.756Z"
      },
      {
        "duration": 53,
        "start_time": "2022-05-26T04:56:46.075Z"
      },
      {
        "duration": 110,
        "start_time": "2022-05-26T04:56:46.130Z"
      },
      {
        "duration": 17,
        "start_time": "2022-05-26T04:56:46.242Z"
      },
      {
        "duration": 31,
        "start_time": "2022-05-26T04:56:46.262Z"
      },
      {
        "duration": 191,
        "start_time": "2022-05-26T04:56:46.294Z"
      },
      {
        "duration": 6,
        "start_time": "2022-05-26T04:56:46.487Z"
      },
      {
        "duration": 0,
        "start_time": "2022-05-26T04:56:46.494Z"
      },
      {
        "duration": 0,
        "start_time": "2022-05-26T04:56:46.495Z"
      },
      {
        "duration": 0,
        "start_time": "2022-05-26T04:56:46.496Z"
      },
      {
        "duration": 0,
        "start_time": "2022-05-26T04:56:46.497Z"
      },
      {
        "duration": 0,
        "start_time": "2022-05-26T04:56:46.498Z"
      },
      {
        "duration": 0,
        "start_time": "2022-05-26T04:56:46.500Z"
      },
      {
        "duration": 0,
        "start_time": "2022-05-26T04:56:46.501Z"
      },
      {
        "duration": 0,
        "start_time": "2022-05-26T04:56:46.502Z"
      },
      {
        "duration": 0,
        "start_time": "2022-05-26T04:56:46.528Z"
      },
      {
        "duration": 34184,
        "start_time": "2022-05-26T04:57:35.631Z"
      },
      {
        "duration": 384,
        "start_time": "2022-05-26T04:58:16.365Z"
      },
      {
        "duration": 11,
        "start_time": "2022-05-26T04:58:20.762Z"
      },
      {
        "duration": 143,
        "start_time": "2022-05-26T04:58:23.137Z"
      },
      {
        "duration": 284,
        "start_time": "2022-05-26T04:58:28.085Z"
      },
      {
        "duration": 226751,
        "start_time": "2022-05-26T04:59:18.847Z"
      },
      {
        "duration": 8641,
        "start_time": "2022-05-26T05:03:15.274Z"
      },
      {
        "duration": 295,
        "start_time": "2022-05-26T05:04:18.511Z"
      },
      {
        "duration": 17,
        "start_time": "2022-05-26T05:38:02.628Z"
      },
      {
        "duration": 141,
        "start_time": "2022-05-26T05:38:23.868Z"
      },
      {
        "duration": 222,
        "start_time": "2022-05-26T05:40:22.797Z"
      },
      {
        "duration": 154,
        "start_time": "2022-05-26T05:42:52.985Z"
      },
      {
        "duration": 159,
        "start_time": "2022-05-26T05:43:03.444Z"
      },
      {
        "duration": 169,
        "start_time": "2022-05-26T05:43:22.149Z"
      },
      {
        "duration": 373,
        "start_time": "2022-05-26T05:43:30.465Z"
      },
      {
        "duration": 27,
        "start_time": "2022-05-26T05:43:58.549Z"
      },
      {
        "duration": 34,
        "start_time": "2022-05-26T05:44:15.671Z"
      },
      {
        "duration": 27,
        "start_time": "2022-05-26T05:44:22.664Z"
      },
      {
        "duration": 215,
        "start_time": "2022-05-26T05:45:42.829Z"
      },
      {
        "duration": 28,
        "start_time": "2022-05-26T05:45:52.392Z"
      },
      {
        "duration": 9,
        "start_time": "2022-05-26T05:46:15.327Z"
      },
      {
        "duration": 9,
        "start_time": "2022-05-26T05:52:38.273Z"
      },
      {
        "duration": 16,
        "start_time": "2022-05-26T05:52:55.688Z"
      },
      {
        "duration": 31,
        "start_time": "2022-05-26T05:53:36.152Z"
      },
      {
        "duration": 293,
        "start_time": "2022-05-26T05:54:08.074Z"
      },
      {
        "duration": 35,
        "start_time": "2022-05-26T05:54:46.454Z"
      },
      {
        "duration": 34967,
        "start_time": "2022-05-26T05:55:02.076Z"
      },
      {
        "duration": 337,
        "start_time": "2022-05-26T06:00:51.389Z"
      },
      {
        "duration": 13,
        "start_time": "2022-05-26T06:01:41.391Z"
      },
      {
        "duration": 357,
        "start_time": "2022-05-26T06:01:53.193Z"
      },
      {
        "duration": 1190,
        "start_time": "2022-05-26T06:05:15.057Z"
      },
      {
        "duration": 119,
        "start_time": "2022-05-26T06:05:16.249Z"
      },
      {
        "duration": 25,
        "start_time": "2022-05-26T06:05:16.369Z"
      },
      {
        "duration": 13,
        "start_time": "2022-05-26T06:05:16.396Z"
      },
      {
        "duration": 8,
        "start_time": "2022-05-26T06:05:16.425Z"
      },
      {
        "duration": 7,
        "start_time": "2022-05-26T06:05:16.434Z"
      },
      {
        "duration": 17,
        "start_time": "2022-05-26T06:05:16.442Z"
      },
      {
        "duration": 10,
        "start_time": "2022-05-26T06:05:16.460Z"
      },
      {
        "duration": 2,
        "start_time": "2022-05-26T06:05:16.472Z"
      },
      {
        "duration": 13,
        "start_time": "2022-05-26T06:05:16.476Z"
      },
      {
        "duration": 187,
        "start_time": "2022-05-26T06:05:16.491Z"
      },
      {
        "duration": 1207,
        "start_time": "2022-05-26T06:05:16.679Z"
      },
      {
        "duration": 365,
        "start_time": "2022-05-26T06:05:17.888Z"
      },
      {
        "duration": 71,
        "start_time": "2022-05-26T06:05:18.254Z"
      },
      {
        "duration": 99,
        "start_time": "2022-05-26T06:05:18.328Z"
      },
      {
        "duration": 21,
        "start_time": "2022-05-26T06:05:18.429Z"
      },
      {
        "duration": 25,
        "start_time": "2022-05-26T06:05:18.452Z"
      },
      {
        "duration": 177,
        "start_time": "2022-05-26T06:05:18.478Z"
      },
      {
        "duration": 37718,
        "start_time": "2022-05-26T06:05:18.657Z"
      },
      {
        "duration": 391,
        "start_time": "2022-05-26T06:05:56.376Z"
      },
      {
        "duration": 384,
        "start_time": "2022-05-26T06:05:56.769Z"
      },
      {
        "duration": 13,
        "start_time": "2022-05-26T06:05:57.155Z"
      },
      {
        "duration": 169,
        "start_time": "2022-05-26T06:05:57.169Z"
      },
      {
        "duration": 7,
        "start_time": "2022-05-26T06:05:57.340Z"
      },
      {
        "duration": 0,
        "start_time": "2022-05-26T06:05:57.349Z"
      },
      {
        "duration": 0,
        "start_time": "2022-05-26T06:05:57.351Z"
      },
      {
        "duration": 0,
        "start_time": "2022-05-26T06:05:57.352Z"
      },
      {
        "duration": 15963,
        "start_time": "2022-05-26T06:07:11.106Z"
      },
      {
        "duration": 123,
        "start_time": "2022-05-26T06:11:21.357Z"
      },
      {
        "duration": 227,
        "start_time": "2022-05-26T06:11:27.140Z"
      },
      {
        "duration": 305,
        "start_time": "2022-05-26T06:11:50.146Z"
      },
      {
        "duration": 369,
        "start_time": "2022-05-26T06:12:00.873Z"
      },
      {
        "duration": 17481,
        "start_time": "2022-05-26T06:13:31.256Z"
      },
      {
        "duration": 55,
        "start_time": "2022-05-26T09:39:51.922Z"
      },
      {
        "duration": 1361,
        "start_time": "2022-05-26T09:42:07.611Z"
      },
      {
        "duration": 224,
        "start_time": "2022-05-26T09:42:08.974Z"
      },
      {
        "duration": 36,
        "start_time": "2022-05-26T09:42:09.212Z"
      },
      {
        "duration": 16,
        "start_time": "2022-05-26T09:42:09.250Z"
      },
      {
        "duration": 7,
        "start_time": "2022-05-26T09:42:09.268Z"
      },
      {
        "duration": 19,
        "start_time": "2022-05-26T09:42:09.277Z"
      },
      {
        "duration": 18,
        "start_time": "2022-05-26T09:42:09.300Z"
      },
      {
        "duration": 11,
        "start_time": "2022-05-26T09:42:09.320Z"
      },
      {
        "duration": 2,
        "start_time": "2022-05-26T09:42:09.334Z"
      },
      {
        "duration": 13,
        "start_time": "2022-05-26T09:42:09.338Z"
      },
      {
        "duration": 21,
        "start_time": "2022-05-26T09:42:09.353Z"
      },
      {
        "duration": 203,
        "start_time": "2022-05-26T09:42:09.375Z"
      },
      {
        "duration": 17703,
        "start_time": "2022-05-26T09:42:09.580Z"
      },
      {
        "duration": 428,
        "start_time": "2022-05-26T09:42:27.285Z"
      },
      {
        "duration": 8,
        "start_time": "2022-05-26T09:42:27.715Z"
      },
      {
        "duration": 84,
        "start_time": "2022-05-26T09:42:27.725Z"
      },
      {
        "duration": 265,
        "start_time": "2022-05-26T09:42:27.813Z"
      },
      {
        "duration": 40789,
        "start_time": "2022-05-26T09:42:28.080Z"
      },
      {
        "duration": 459,
        "start_time": "2022-05-26T09:43:08.871Z"
      },
      {
        "duration": 387,
        "start_time": "2022-05-26T09:43:09.332Z"
      },
      {
        "duration": 10,
        "start_time": "2022-05-26T09:43:09.721Z"
      },
      {
        "duration": 182,
        "start_time": "2022-05-26T09:43:09.733Z"
      },
      {
        "duration": 16804,
        "start_time": "2022-05-26T09:43:09.917Z"
      },
      {
        "duration": 249,
        "start_time": "2022-05-26T09:43:26.723Z"
      },
      {
        "duration": 354,
        "start_time": "2022-05-26T09:43:26.974Z"
      },
      {
        "duration": 220,
        "start_time": "2022-05-26T09:43:27.330Z"
      },
      {
        "duration": 377,
        "start_time": "2022-05-26T09:53:02.366Z"
      },
      {
        "duration": 170,
        "start_time": "2022-05-26T09:54:43.056Z"
      },
      {
        "duration": 38793,
        "start_time": "2022-05-26T09:55:55.783Z"
      },
      {
        "duration": 10,
        "start_time": "2022-05-26T09:57:11.544Z"
      },
      {
        "duration": 36498,
        "start_time": "2022-05-26T09:57:18.217Z"
      },
      {
        "duration": 37,
        "start_time": "2022-05-26T10:01:46.636Z"
      },
      {
        "duration": 4,
        "start_time": "2022-05-26T10:02:10.325Z"
      },
      {
        "duration": 54,
        "start_time": "2022-05-26T10:02:11.254Z"
      },
      {
        "duration": 42,
        "start_time": "2022-05-26T10:02:13.194Z"
      },
      {
        "duration": 13,
        "start_time": "2022-05-26T10:02:14.848Z"
      },
      {
        "duration": 6,
        "start_time": "2022-05-26T10:02:17.156Z"
      },
      {
        "duration": 5,
        "start_time": "2022-05-26T10:02:17.939Z"
      },
      {
        "duration": 4,
        "start_time": "2022-05-26T10:02:19.754Z"
      },
      {
        "duration": 10,
        "start_time": "2022-05-26T10:02:22.152Z"
      },
      {
        "duration": 2,
        "start_time": "2022-05-26T10:02:23.727Z"
      },
      {
        "duration": 15,
        "start_time": "2022-05-26T10:02:28.331Z"
      },
      {
        "duration": 27,
        "start_time": "2022-05-26T10:02:31.710Z"
      },
      {
        "duration": 180,
        "start_time": "2022-05-26T10:02:37.634Z"
      },
      {
        "duration": 6240,
        "start_time": "2022-05-26T10:02:40.557Z"
      },
      {
        "duration": 406,
        "start_time": "2022-05-26T10:02:51.124Z"
      },
      {
        "duration": 11,
        "start_time": "2022-05-26T10:02:55.462Z"
      },
      {
        "duration": 11,
        "start_time": "2022-05-26T10:03:57.129Z"
      },
      {
        "duration": 177,
        "start_time": "2022-05-26T10:04:01.148Z"
      },
      {
        "duration": 8,
        "start_time": "2022-05-26T10:04:06.377Z"
      },
      {
        "duration": 9,
        "start_time": "2022-05-26T10:04:17.965Z"
      },
      {
        "duration": 318,
        "start_time": "2022-05-26T10:04:31.621Z"
      },
      {
        "duration": 14,
        "start_time": "2022-05-26T10:04:48.710Z"
      },
      {
        "duration": 13,
        "start_time": "2022-05-26T10:05:06.785Z"
      },
      {
        "duration": 171,
        "start_time": "2022-05-26T10:05:09.536Z"
      },
      {
        "duration": 196,
        "start_time": "2022-05-26T10:05:39.664Z"
      },
      {
        "duration": 24,
        "start_time": "2022-05-26T10:06:05.861Z"
      },
      {
        "duration": 289,
        "start_time": "2022-05-26T10:06:20.597Z"
      },
      {
        "duration": 34,
        "start_time": "2022-05-26T10:06:26.056Z"
      },
      {
        "duration": 14,
        "start_time": "2022-05-26T10:06:48.394Z"
      },
      {
        "duration": 179,
        "start_time": "2022-05-26T10:06:52.938Z"
      },
      {
        "duration": 10,
        "start_time": "2022-05-26T10:06:54.249Z"
      },
      {
        "duration": 475,
        "start_time": "2022-05-26T10:06:59.092Z"
      },
      {
        "duration": 11,
        "start_time": "2022-05-26T10:07:02.213Z"
      },
      {
        "duration": 281,
        "start_time": "2022-05-26T10:07:14.694Z"
      },
      {
        "duration": 34,
        "start_time": "2022-05-26T10:07:18.282Z"
      },
      {
        "duration": 13,
        "start_time": "2022-05-26T10:07:40.850Z"
      },
      {
        "duration": 413,
        "start_time": "2022-05-26T10:07:47.109Z"
      },
      {
        "duration": 33,
        "start_time": "2022-05-26T10:07:52.421Z"
      },
      {
        "duration": 32,
        "start_time": "2022-05-26T10:08:30.310Z"
      },
      {
        "duration": 11,
        "start_time": "2022-05-26T10:08:39.582Z"
      },
      {
        "duration": 247,
        "start_time": "2022-05-26T10:08:52.739Z"
      },
      {
        "duration": 22,
        "start_time": "2022-05-26T10:08:56.545Z"
      },
      {
        "duration": 18,
        "start_time": "2022-05-26T10:09:16.747Z"
      },
      {
        "duration": 387,
        "start_time": "2022-05-26T10:09:26.685Z"
      },
      {
        "duration": 26,
        "start_time": "2022-05-26T10:09:33.564Z"
      },
      {
        "duration": 1352,
        "start_time": "2022-05-26T10:09:43.012Z"
      },
      {
        "duration": 136,
        "start_time": "2022-05-26T10:09:44.367Z"
      },
      {
        "duration": 29,
        "start_time": "2022-05-26T10:09:44.511Z"
      },
      {
        "duration": 16,
        "start_time": "2022-05-26T10:09:44.542Z"
      },
      {
        "duration": 4,
        "start_time": "2022-05-26T10:09:44.560Z"
      },
      {
        "duration": 31,
        "start_time": "2022-05-26T10:09:44.566Z"
      },
      {
        "duration": 25,
        "start_time": "2022-05-26T10:09:44.600Z"
      },
      {
        "duration": 13,
        "start_time": "2022-05-26T10:09:44.628Z"
      },
      {
        "duration": 3,
        "start_time": "2022-05-26T10:09:44.643Z"
      },
      {
        "duration": 16,
        "start_time": "2022-05-26T10:09:44.649Z"
      },
      {
        "duration": 61,
        "start_time": "2022-05-26T10:09:44.667Z"
      },
      {
        "duration": 202,
        "start_time": "2022-05-26T10:09:44.730Z"
      },
      {
        "duration": 20020,
        "start_time": "2022-05-26T10:09:44.934Z"
      },
      {
        "duration": 368,
        "start_time": "2022-05-26T10:10:04.956Z"
      },
      {
        "duration": 9,
        "start_time": "2022-05-26T10:10:05.326Z"
      },
      {
        "duration": 160,
        "start_time": "2022-05-26T10:10:05.337Z"
      },
      {
        "duration": 202,
        "start_time": "2022-05-26T10:10:05.500Z"
      },
      {
        "duration": 11,
        "start_time": "2022-05-26T10:10:05.703Z"
      },
      {
        "duration": 32704,
        "start_time": "2022-05-26T10:10:05.716Z"
      },
      {
        "duration": 380,
        "start_time": "2022-05-26T10:10:38.422Z"
      },
      {
        "duration": 12,
        "start_time": "2022-05-26T10:10:38.812Z"
      },
      {
        "duration": 86,
        "start_time": "2022-05-26T10:10:38.826Z"
      },
      {
        "duration": 304,
        "start_time": "2022-05-26T10:10:38.920Z"
      },
      {
        "duration": 17823,
        "start_time": "2022-05-26T10:10:39.228Z"
      },
      {
        "duration": 230,
        "start_time": "2022-05-26T10:10:57.054Z"
      },
      {
        "duration": 33,
        "start_time": "2022-05-26T10:10:57.286Z"
      },
      {
        "duration": 327,
        "start_time": "2022-05-26T10:10:57.321Z"
      },
      {
        "duration": 263,
        "start_time": "2022-05-26T10:10:57.651Z"
      },
      {
        "duration": 31609,
        "start_time": "2022-05-26T10:10:57.916Z"
      },
      {
        "duration": 42,
        "start_time": "2022-05-26T10:11:29.528Z"
      },
      {
        "duration": 1273,
        "start_time": "2022-05-26T10:13:03.576Z"
      },
      {
        "duration": 133,
        "start_time": "2022-05-26T10:13:04.851Z"
      },
      {
        "duration": 40,
        "start_time": "2022-05-26T10:13:04.985Z"
      },
      {
        "duration": 20,
        "start_time": "2022-05-26T10:13:05.027Z"
      },
      {
        "duration": 10,
        "start_time": "2022-05-26T10:13:05.049Z"
      },
      {
        "duration": 12,
        "start_time": "2022-05-26T10:13:05.062Z"
      },
      {
        "duration": 28,
        "start_time": "2022-05-26T10:13:05.077Z"
      },
      {
        "duration": 44,
        "start_time": "2022-05-26T10:13:05.108Z"
      },
      {
        "duration": 15,
        "start_time": "2022-05-26T10:13:05.155Z"
      },
      {
        "duration": 38,
        "start_time": "2022-05-26T10:13:05.176Z"
      },
      {
        "duration": 58,
        "start_time": "2022-05-26T10:13:05.217Z"
      },
      {
        "duration": 208,
        "start_time": "2022-05-26T10:13:05.277Z"
      },
      {
        "duration": 2976,
        "start_time": "2022-05-26T10:13:05.486Z"
      },
      {
        "duration": 0,
        "start_time": "2022-05-26T10:13:08.464Z"
      },
      {
        "duration": 0,
        "start_time": "2022-05-26T10:13:08.466Z"
      },
      {
        "duration": 0,
        "start_time": "2022-05-26T10:13:08.467Z"
      },
      {
        "duration": 0,
        "start_time": "2022-05-26T10:13:08.468Z"
      },
      {
        "duration": 0,
        "start_time": "2022-05-26T10:13:08.470Z"
      },
      {
        "duration": 0,
        "start_time": "2022-05-26T10:13:08.470Z"
      },
      {
        "duration": 0,
        "start_time": "2022-05-26T10:13:08.472Z"
      },
      {
        "duration": 0,
        "start_time": "2022-05-26T10:13:08.473Z"
      },
      {
        "duration": 0,
        "start_time": "2022-05-26T10:13:08.474Z"
      },
      {
        "duration": 0,
        "start_time": "2022-05-26T10:13:08.475Z"
      },
      {
        "duration": 0,
        "start_time": "2022-05-26T10:13:08.494Z"
      },
      {
        "duration": 0,
        "start_time": "2022-05-26T10:13:08.495Z"
      },
      {
        "duration": 0,
        "start_time": "2022-05-26T10:13:08.498Z"
      },
      {
        "duration": 0,
        "start_time": "2022-05-26T10:13:08.499Z"
      },
      {
        "duration": 0,
        "start_time": "2022-05-26T10:13:08.499Z"
      },
      {
        "duration": 0,
        "start_time": "2022-05-26T10:13:08.500Z"
      },
      {
        "duration": 0,
        "start_time": "2022-05-26T10:13:08.501Z"
      },
      {
        "duration": 1259,
        "start_time": "2022-05-26T10:13:35.814Z"
      },
      {
        "duration": 138,
        "start_time": "2022-05-26T10:13:37.077Z"
      },
      {
        "duration": 27,
        "start_time": "2022-05-26T10:13:37.217Z"
      },
      {
        "duration": 14,
        "start_time": "2022-05-26T10:13:37.246Z"
      },
      {
        "duration": 34,
        "start_time": "2022-05-26T10:13:37.262Z"
      },
      {
        "duration": 14,
        "start_time": "2022-05-26T10:13:37.297Z"
      },
      {
        "duration": 8,
        "start_time": "2022-05-26T10:13:37.315Z"
      },
      {
        "duration": 12,
        "start_time": "2022-05-26T10:13:37.325Z"
      },
      {
        "duration": 3,
        "start_time": "2022-05-26T10:13:37.339Z"
      },
      {
        "duration": 13,
        "start_time": "2022-05-26T10:13:37.345Z"
      },
      {
        "duration": 57,
        "start_time": "2022-05-26T10:13:37.360Z"
      },
      {
        "duration": 199,
        "start_time": "2022-05-26T10:13:37.419Z"
      },
      {
        "duration": 19437,
        "start_time": "2022-05-26T10:13:37.620Z"
      },
      {
        "duration": 413,
        "start_time": "2022-05-26T10:13:57.059Z"
      },
      {
        "duration": 24,
        "start_time": "2022-05-26T10:13:57.475Z"
      },
      {
        "duration": 135,
        "start_time": "2022-05-26T10:13:57.501Z"
      },
      {
        "duration": 214,
        "start_time": "2022-05-26T10:13:57.638Z"
      },
      {
        "duration": 10,
        "start_time": "2022-05-26T10:13:57.854Z"
      },
      {
        "duration": 121100,
        "start_time": "2022-05-26T10:13:57.866Z"
      },
      {
        "duration": 397,
        "start_time": "2022-05-26T10:15:58.969Z"
      },
      {
        "duration": 57,
        "start_time": "2022-05-26T10:15:59.368Z"
      },
      {
        "duration": 99,
        "start_time": "2022-05-26T10:15:59.427Z"
      },
      {
        "duration": 250,
        "start_time": "2022-05-26T10:15:59.528Z"
      },
      {
        "duration": 17641,
        "start_time": "2022-05-26T10:15:59.780Z"
      },
      {
        "duration": 220,
        "start_time": "2022-05-26T10:16:17.423Z"
      },
      {
        "duration": 22,
        "start_time": "2022-05-26T10:16:17.645Z"
      },
      {
        "duration": 385,
        "start_time": "2022-05-26T10:16:17.669Z"
      },
      {
        "duration": 297,
        "start_time": "2022-05-26T10:16:18.057Z"
      },
      {
        "duration": 115575,
        "start_time": "2022-05-26T10:16:18.356Z"
      },
      {
        "duration": 90,
        "start_time": "2022-05-26T10:18:13.933Z"
      },
      {
        "duration": 6132,
        "start_time": "2022-05-26T11:45:13.446Z"
      },
      {
        "duration": 518,
        "start_time": "2022-05-26T11:47:16.273Z"
      },
      {
        "duration": 49,
        "start_time": "2022-05-26T11:54:04.802Z"
      },
      {
        "duration": 21,
        "start_time": "2022-05-26T11:54:07.847Z"
      },
      {
        "duration": 13,
        "start_time": "2022-05-26T11:54:09.953Z"
      },
      {
        "duration": 6,
        "start_time": "2022-05-26T11:54:11.575Z"
      },
      {
        "duration": 19,
        "start_time": "2022-05-26T11:54:13.489Z"
      },
      {
        "duration": 88,
        "start_time": "2022-05-26T11:55:16.560Z"
      },
      {
        "duration": 19,
        "start_time": "2022-05-26T11:55:20.281Z"
      },
      {
        "duration": 577,
        "start_time": "2022-05-26T11:55:23.785Z"
      },
      {
        "duration": 21,
        "start_time": "2022-05-26T11:59:39.472Z"
      },
      {
        "duration": 705,
        "start_time": "2022-05-26T11:59:40.780Z"
      },
      {
        "duration": 746,
        "start_time": "2022-05-26T12:00:00.343Z"
      },
      {
        "duration": 20,
        "start_time": "2022-05-26T12:00:12.557Z"
      },
      {
        "duration": 268,
        "start_time": "2022-05-26T12:00:13.842Z"
      },
      {
        "duration": 518,
        "start_time": "2022-05-26T12:00:25.873Z"
      },
      {
        "duration": 665,
        "start_time": "2022-05-26T12:00:30.541Z"
      },
      {
        "duration": 89,
        "start_time": "2022-05-26T12:00:37.038Z"
      },
      {
        "duration": 1544,
        "start_time": "2022-05-26T12:01:03.591Z"
      },
      {
        "duration": 165,
        "start_time": "2022-05-26T12:01:08.813Z"
      },
      {
        "duration": 32,
        "start_time": "2022-05-26T12:01:11.780Z"
      },
      {
        "duration": 29,
        "start_time": "2022-05-26T12:01:12.896Z"
      },
      {
        "duration": 7,
        "start_time": "2022-05-26T12:01:15.718Z"
      },
      {
        "duration": 8,
        "start_time": "2022-05-26T12:01:17.983Z"
      },
      {
        "duration": 8,
        "start_time": "2022-05-26T12:01:20.153Z"
      },
      {
        "duration": 13,
        "start_time": "2022-05-26T12:01:22.759Z"
      },
      {
        "duration": 8,
        "start_time": "2022-05-26T12:01:24.439Z"
      },
      {
        "duration": 19,
        "start_time": "2022-05-26T12:01:25.803Z"
      },
      {
        "duration": 39,
        "start_time": "2022-05-26T12:01:29.529Z"
      },
      {
        "duration": 213,
        "start_time": "2022-05-26T12:01:32.673Z"
      },
      {
        "duration": 24833,
        "start_time": "2022-05-26T12:01:38.725Z"
      },
      {
        "duration": 363,
        "start_time": "2022-05-26T12:02:10.575Z"
      },
      {
        "duration": 30,
        "start_time": "2022-05-26T12:02:17.486Z"
      },
      {
        "duration": 31,
        "start_time": "2022-05-26T12:02:36.890Z"
      },
      {
        "duration": 241,
        "start_time": "2022-05-26T12:02:50.112Z"
      },
      {
        "duration": 82303,
        "start_time": "2022-05-26T12:03:12.848Z"
      },
      {
        "duration": 441,
        "start_time": "2022-05-26T12:06:07.437Z"
      },
      {
        "duration": 17,
        "start_time": "2022-05-26T12:06:50.051Z"
      },
      {
        "duration": 182,
        "start_time": "2022-05-26T12:06:52.842Z"
      },
      {
        "duration": 20111,
        "start_time": "2022-05-26T12:07:06.958Z"
      },
      {
        "duration": 442,
        "start_time": "2022-05-26T12:09:45.972Z"
      },
      {
        "duration": 663,
        "start_time": "2022-05-26T12:09:50.457Z"
      },
      {
        "duration": 22,
        "start_time": "2022-05-26T12:10:53.817Z"
      },
      {
        "duration": 12,
        "start_time": "2022-05-26T12:11:23.768Z"
      },
      {
        "duration": 181,
        "start_time": "2022-05-26T12:11:25.378Z"
      },
      {
        "duration": 6,
        "start_time": "2022-05-26T12:11:25.836Z"
      },
      {
        "duration": 7,
        "start_time": "2022-05-26T12:11:27.656Z"
      },
      {
        "duration": 9,
        "start_time": "2022-05-26T12:11:30.543Z"
      },
      {
        "duration": 4,
        "start_time": "2022-05-26T12:11:31.106Z"
      },
      {
        "duration": 20,
        "start_time": "2022-05-26T12:11:32.044Z"
      },
      {
        "duration": 37,
        "start_time": "2022-05-26T12:11:33.682Z"
      },
      {
        "duration": 23,
        "start_time": "2022-05-26T12:11:39.706Z"
      },
      {
        "duration": 43,
        "start_time": "2022-05-26T12:11:42.239Z"
      },
      {
        "duration": 29,
        "start_time": "2022-05-26T12:11:43.790Z"
      },
      {
        "duration": 19,
        "start_time": "2022-05-26T12:11:45.618Z"
      },
      {
        "duration": 5,
        "start_time": "2022-05-26T12:11:51.855Z"
      },
      {
        "duration": 18,
        "start_time": "2022-05-26T12:11:54.823Z"
      },
      {
        "duration": 10,
        "start_time": "2022-05-26T12:11:59.790Z"
      },
      {
        "duration": 8,
        "start_time": "2022-05-26T12:12:01.807Z"
      },
      {
        "duration": 17,
        "start_time": "2022-05-26T12:12:04.560Z"
      },
      {
        "duration": 4,
        "start_time": "2022-05-26T12:12:05.194Z"
      },
      {
        "duration": 18,
        "start_time": "2022-05-26T12:12:06.216Z"
      },
      {
        "duration": 27,
        "start_time": "2022-05-26T12:12:08.111Z"
      },
      {
        "duration": 19,
        "start_time": "2022-05-26T12:12:17.524Z"
      },
      {
        "duration": 13,
        "start_time": "2022-05-26T12:12:24.439Z"
      },
      {
        "duration": 16,
        "start_time": "2022-05-26T12:12:38.614Z"
      },
      {
        "duration": 592,
        "start_time": "2022-05-26T12:12:43.976Z"
      },
      {
        "duration": 1460,
        "start_time": "2022-05-26T12:13:13.818Z"
      },
      {
        "duration": 136,
        "start_time": "2022-05-26T12:13:16.519Z"
      },
      {
        "duration": 37,
        "start_time": "2022-05-26T12:13:19.596Z"
      },
      {
        "duration": 16,
        "start_time": "2022-05-26T12:13:21.173Z"
      },
      {
        "duration": 7,
        "start_time": "2022-05-26T12:13:22.743Z"
      },
      {
        "duration": 21,
        "start_time": "2022-05-26T12:13:23.351Z"
      },
      {
        "duration": 7,
        "start_time": "2022-05-26T12:13:25.233Z"
      },
      {
        "duration": 15,
        "start_time": "2022-05-26T12:13:27.141Z"
      },
      {
        "duration": 5,
        "start_time": "2022-05-26T12:13:28.924Z"
      },
      {
        "duration": 19,
        "start_time": "2022-05-26T12:13:29.638Z"
      },
      {
        "duration": 30,
        "start_time": "2022-05-26T12:13:31.254Z"
      },
      {
        "duration": 20,
        "start_time": "2022-05-26T12:13:43.102Z"
      },
      {
        "duration": 668,
        "start_time": "2022-05-26T12:13:48.920Z"
      },
      {
        "duration": 525,
        "start_time": "2022-05-26T12:14:06.888Z"
      },
      {
        "duration": 108,
        "start_time": "2022-05-26T12:14:13.537Z"
      },
      {
        "duration": 19,
        "start_time": "2022-05-26T12:14:13.938Z"
      },
      {
        "duration": 579,
        "start_time": "2022-05-26T12:14:16.119Z"
      },
      {
        "duration": 633,
        "start_time": "2022-05-26T12:15:18.417Z"
      },
      {
        "duration": 76,
        "start_time": "2022-05-26T12:15:36.662Z"
      },
      {
        "duration": 13,
        "start_time": "2022-05-26T12:15:36.933Z"
      },
      {
        "duration": 10,
        "start_time": "2022-05-26T12:15:37.653Z"
      },
      {
        "duration": 1327,
        "start_time": "2022-05-26T12:15:45.902Z"
      },
      {
        "duration": 247,
        "start_time": "2022-05-26T12:15:50.943Z"
      },
      {
        "duration": 77,
        "start_time": "2022-05-26T12:16:19.560Z"
      },
      {
        "duration": 112,
        "start_time": "2022-05-26T12:16:39.412Z"
      },
      {
        "duration": 15,
        "start_time": "2022-05-26T12:16:40.856Z"
      },
      {
        "duration": 596,
        "start_time": "2022-05-26T12:16:42.351Z"
      },
      {
        "duration": 106,
        "start_time": "2022-05-26T12:16:46.860Z"
      },
      {
        "duration": 13,
        "start_time": "2022-05-26T12:16:47.220Z"
      },
      {
        "duration": 519,
        "start_time": "2022-05-26T12:16:47.836Z"
      },
      {
        "duration": 1429,
        "start_time": "2022-05-26T12:16:59.799Z"
      },
      {
        "duration": 210,
        "start_time": "2022-05-26T12:17:18.615Z"
      },
      {
        "duration": 16,
        "start_time": "2022-05-26T12:17:19.411Z"
      },
      {
        "duration": 550,
        "start_time": "2022-05-26T12:17:20.218Z"
      },
      {
        "duration": 84,
        "start_time": "2022-05-26T12:17:39.775Z"
      },
      {
        "duration": 1321,
        "start_time": "2022-05-26T12:17:48.846Z"
      },
      {
        "duration": 151,
        "start_time": "2022-05-26T12:17:53.622Z"
      },
      {
        "duration": 20,
        "start_time": "2022-05-26T12:17:54.981Z"
      },
      {
        "duration": 592,
        "start_time": "2022-05-26T12:17:55.670Z"
      },
      {
        "duration": 18,
        "start_time": "2022-05-26T12:18:04.925Z"
      },
      {
        "duration": 548,
        "start_time": "2022-05-26T12:18:05.999Z"
      },
      {
        "duration": 1221,
        "start_time": "2022-05-26T12:18:36.841Z"
      },
      {
        "duration": 155,
        "start_time": "2022-05-26T12:18:38.067Z"
      },
      {
        "duration": 27,
        "start_time": "2022-05-26T12:18:39.415Z"
      },
      {
        "duration": 19,
        "start_time": "2022-05-26T12:18:40.656Z"
      },
      {
        "duration": 8,
        "start_time": "2022-05-26T12:18:42.004Z"
      },
      {
        "duration": 5,
        "start_time": "2022-05-26T12:18:42.712Z"
      },
      {
        "duration": 6,
        "start_time": "2022-05-26T12:18:44.367Z"
      },
      {
        "duration": 15,
        "start_time": "2022-05-26T12:18:46.897Z"
      },
      {
        "duration": 4,
        "start_time": "2022-05-26T12:18:47.438Z"
      },
      {
        "duration": 20,
        "start_time": "2022-05-26T12:18:48.185Z"
      },
      {
        "duration": 215,
        "start_time": "2022-05-26T12:18:51.795Z"
      },
      {
        "duration": 7129,
        "start_time": "2022-05-26T12:18:54.716Z"
      },
      {
        "duration": 411,
        "start_time": "2022-05-26T12:19:04.851Z"
      },
      {
        "duration": 88,
        "start_time": "2022-05-26T12:19:13.107Z"
      },
      {
        "duration": 20,
        "start_time": "2022-05-26T12:19:16.487Z"
      },
      {
        "duration": 229,
        "start_time": "2022-05-26T12:19:20.593Z"
      },
      {
        "duration": 406,
        "start_time": "2022-05-26T12:19:25.017Z"
      },
      {
        "duration": 15,
        "start_time": "2022-05-26T12:19:32.098Z"
      },
      {
        "duration": 169,
        "start_time": "2022-05-26T12:19:33.521Z"
      },
      {
        "duration": 372,
        "start_time": "2022-05-26T12:19:36.264Z"
      },
      {
        "duration": 646,
        "start_time": "2022-05-26T12:19:38.924Z"
      },
      {
        "duration": 1348,
        "start_time": "2022-05-26T20:42:19.758Z"
      },
      {
        "duration": 181,
        "start_time": "2022-05-26T20:42:23.161Z"
      },
      {
        "duration": 25,
        "start_time": "2022-05-26T20:42:25.099Z"
      },
      {
        "duration": 14,
        "start_time": "2022-05-26T20:42:25.879Z"
      },
      {
        "duration": 5,
        "start_time": "2022-05-26T20:42:27.082Z"
      },
      {
        "duration": 5,
        "start_time": "2022-05-26T20:42:28.078Z"
      },
      {
        "duration": 6,
        "start_time": "2022-05-26T20:42:29.784Z"
      },
      {
        "duration": 15,
        "start_time": "2022-05-26T20:42:33.926Z"
      },
      {
        "duration": 3,
        "start_time": "2022-05-26T20:42:34.639Z"
      },
      {
        "duration": 13,
        "start_time": "2022-05-26T20:42:36.502Z"
      },
      {
        "duration": 2,
        "start_time": "2022-05-26T20:42:38.943Z"
      },
      {
        "duration": 24,
        "start_time": "2022-05-26T20:42:58.567Z"
      },
      {
        "duration": 164,
        "start_time": "2022-05-26T20:43:12.375Z"
      },
      {
        "duration": 9,
        "start_time": "2022-05-26T20:43:23.356Z"
      },
      {
        "duration": 298,
        "start_time": "2022-05-26T20:43:35.275Z"
      },
      {
        "duration": 10,
        "start_time": "2022-05-26T20:43:39.300Z"
      },
      {
        "duration": 125,
        "start_time": "2022-05-26T20:44:10.982Z"
      },
      {
        "duration": 8,
        "start_time": "2022-05-26T20:44:40.617Z"
      },
      {
        "duration": 11,
        "start_time": "2022-05-26T20:45:06.455Z"
      },
      {
        "duration": 8,
        "start_time": "2022-05-26T20:45:15.001Z"
      },
      {
        "duration": 76,
        "start_time": "2022-05-26T20:47:38.876Z"
      },
      {
        "duration": 135,
        "start_time": "2022-05-26T20:47:39.710Z"
      },
      {
        "duration": 418,
        "start_time": "2022-05-26T20:47:40.337Z"
      },
      {
        "duration": 84,
        "start_time": "2022-05-26T20:48:01.602Z"
      },
      {
        "duration": 9,
        "start_time": "2022-05-26T20:48:03.177Z"
      },
      {
        "duration": 414,
        "start_time": "2022-05-26T20:48:03.881Z"
      },
      {
        "duration": 56,
        "start_time": "2022-05-26T20:48:32.247Z"
      },
      {
        "duration": 12,
        "start_time": "2022-05-26T20:48:32.664Z"
      },
      {
        "duration": 405,
        "start_time": "2022-05-26T20:48:33.203Z"
      },
      {
        "duration": 89,
        "start_time": "2022-05-26T20:50:02.436Z"
      },
      {
        "duration": 10,
        "start_time": "2022-05-26T20:50:03.194Z"
      },
      {
        "duration": 468,
        "start_time": "2022-05-26T20:50:03.772Z"
      },
      {
        "duration": 1061,
        "start_time": "2022-05-26T20:50:47.974Z"
      },
      {
        "duration": 102,
        "start_time": "2022-05-26T20:50:49.038Z"
      },
      {
        "duration": 22,
        "start_time": "2022-05-26T20:50:49.141Z"
      },
      {
        "duration": 10,
        "start_time": "2022-05-26T20:50:49.165Z"
      },
      {
        "duration": 3,
        "start_time": "2022-05-26T20:50:49.177Z"
      },
      {
        "duration": 6,
        "start_time": "2022-05-26T20:50:49.182Z"
      },
      {
        "duration": 7,
        "start_time": "2022-05-26T20:50:49.189Z"
      },
      {
        "duration": 32,
        "start_time": "2022-05-26T20:50:49.197Z"
      },
      {
        "duration": 3,
        "start_time": "2022-05-26T20:50:49.230Z"
      },
      {
        "duration": 15,
        "start_time": "2022-05-26T20:50:49.235Z"
      },
      {
        "duration": 31,
        "start_time": "2022-05-26T20:50:49.251Z"
      },
      {
        "duration": 179,
        "start_time": "2022-05-26T20:50:49.284Z"
      },
      {
        "duration": 16559,
        "start_time": "2022-05-26T20:50:49.464Z"
      },
      {
        "duration": 459,
        "start_time": "2022-05-26T20:51:06.024Z"
      },
      {
        "duration": 49,
        "start_time": "2022-05-26T20:51:06.485Z"
      },
      {
        "duration": 111,
        "start_time": "2022-05-26T20:51:06.536Z"
      },
      {
        "duration": 166,
        "start_time": "2022-05-26T20:51:06.649Z"
      },
      {
        "duration": 64517,
        "start_time": "2022-05-26T20:51:06.817Z"
      },
      {
        "duration": 437,
        "start_time": "2022-05-26T20:52:11.335Z"
      },
      {
        "duration": 11,
        "start_time": "2022-05-26T20:52:11.774Z"
      },
      {
        "duration": 156,
        "start_time": "2022-05-26T20:52:11.786Z"
      },
      {
        "duration": 16316,
        "start_time": "2022-05-26T20:52:11.944Z"
      },
      {
        "duration": 286,
        "start_time": "2022-05-26T20:52:28.262Z"
      },
      {
        "duration": 470,
        "start_time": "2022-05-26T20:52:28.550Z"
      },
      {
        "duration": 92,
        "start_time": "2022-05-26T20:52:29.022Z"
      },
      {
        "duration": 8,
        "start_time": "2022-05-26T20:52:29.116Z"
      },
      {
        "duration": 452,
        "start_time": "2022-05-26T20:52:29.126Z"
      },
      {
        "duration": 350,
        "start_time": "2022-05-26T21:07:04.131Z"
      },
      {
        "duration": 349,
        "start_time": "2022-05-26T21:07:12.212Z"
      },
      {
        "duration": 549,
        "start_time": "2022-05-26T21:07:25.913Z"
      },
      {
        "duration": 52,
        "start_time": "2022-05-26T21:12:03.795Z"
      },
      {
        "duration": 6357,
        "start_time": "2022-05-26T21:13:42.948Z"
      },
      {
        "duration": 466970,
        "start_time": "2022-05-26T21:14:01.460Z"
      },
      {
        "duration": 683,
        "start_time": "2022-05-26T21:26:53.234Z"
      },
      {
        "duration": 680,
        "start_time": "2022-05-26T21:27:01.521Z"
      },
      {
        "duration": 1347,
        "start_time": "2022-05-26T21:27:49.700Z"
      },
      {
        "duration": 133,
        "start_time": "2022-05-26T21:27:51.050Z"
      },
      {
        "duration": 25,
        "start_time": "2022-05-26T21:27:51.186Z"
      },
      {
        "duration": 33,
        "start_time": "2022-05-26T21:27:51.214Z"
      },
      {
        "duration": 4,
        "start_time": "2022-05-26T21:27:51.249Z"
      },
      {
        "duration": 39,
        "start_time": "2022-05-26T21:27:51.262Z"
      },
      {
        "duration": 23,
        "start_time": "2022-05-26T21:27:51.303Z"
      },
      {
        "duration": 40,
        "start_time": "2022-05-26T21:27:51.328Z"
      },
      {
        "duration": 21,
        "start_time": "2022-05-26T21:27:51.370Z"
      },
      {
        "duration": 39,
        "start_time": "2022-05-26T21:27:51.395Z"
      },
      {
        "duration": 54,
        "start_time": "2022-05-26T21:27:51.436Z"
      },
      {
        "duration": 183,
        "start_time": "2022-05-26T21:27:51.492Z"
      },
      {
        "duration": 19697,
        "start_time": "2022-05-26T21:27:51.677Z"
      },
      {
        "duration": 395,
        "start_time": "2022-05-26T21:28:11.376Z"
      },
      {
        "duration": 56,
        "start_time": "2022-05-26T21:28:11.773Z"
      },
      {
        "duration": 108,
        "start_time": "2022-05-26T21:28:11.834Z"
      },
      {
        "duration": 232,
        "start_time": "2022-05-26T21:28:11.944Z"
      },
      {
        "duration": 71296,
        "start_time": "2022-05-26T21:28:12.178Z"
      },
      {
        "duration": 377,
        "start_time": "2022-05-26T21:29:23.476Z"
      },
      {
        "duration": 13,
        "start_time": "2022-05-26T21:29:23.855Z"
      },
      {
        "duration": 183,
        "start_time": "2022-05-26T21:29:23.871Z"
      },
      {
        "duration": 65836,
        "start_time": "2022-05-26T21:29:24.056Z"
      },
      {
        "duration": 327,
        "start_time": "2022-05-26T21:30:29.894Z"
      },
      {
        "duration": 669,
        "start_time": "2022-05-26T21:30:30.227Z"
      },
      {
        "duration": 56,
        "start_time": "2022-05-26T21:34:49.462Z"
      },
      {
        "duration": 411,
        "start_time": "2022-05-26T21:34:57.679Z"
      },
      {
        "duration": 17,
        "start_time": "2022-05-26T21:35:00.254Z"
      },
      {
        "duration": 9,
        "start_time": "2022-05-26T21:35:35.750Z"
      },
      {
        "duration": 71,
        "start_time": "2022-05-27T15:24:16.818Z"
      },
      {
        "duration": 1639,
        "start_time": "2022-05-27T15:24:24.463Z"
      },
      {
        "duration": 242,
        "start_time": "2022-05-27T15:24:26.104Z"
      },
      {
        "duration": 26,
        "start_time": "2022-05-27T15:24:28.049Z"
      },
      {
        "duration": 14,
        "start_time": "2022-05-27T15:24:29.271Z"
      },
      {
        "duration": 5,
        "start_time": "2022-05-27T15:24:30.100Z"
      },
      {
        "duration": 5,
        "start_time": "2022-05-27T15:24:30.794Z"
      },
      {
        "duration": 7,
        "start_time": "2022-05-27T15:24:33.013Z"
      },
      {
        "duration": 15,
        "start_time": "2022-05-27T15:24:35.550Z"
      },
      {
        "duration": 10,
        "start_time": "2022-05-27T15:24:36.107Z"
      },
      {
        "duration": 14,
        "start_time": "2022-05-27T15:24:37.148Z"
      },
      {
        "duration": 32,
        "start_time": "2022-05-27T15:24:42.021Z"
      },
      {
        "duration": 203,
        "start_time": "2022-05-27T15:24:44.555Z"
      },
      {
        "duration": 321,
        "start_time": "2022-05-27T15:24:47.818Z"
      },
      {
        "duration": 23,
        "start_time": "2022-05-27T15:25:37.564Z"
      },
      {
        "duration": 10,
        "start_time": "2022-05-27T15:25:58.400Z"
      },
      {
        "duration": 145,
        "start_time": "2022-05-27T15:27:20.445Z"
      },
      {
        "duration": 4,
        "start_time": "2022-05-27T15:29:19.151Z"
      },
      {
        "duration": 13,
        "start_time": "2022-05-27T15:29:40.121Z"
      },
      {
        "duration": 233,
        "start_time": "2022-05-27T15:32:34.541Z"
      },
      {
        "duration": 5,
        "start_time": "2022-05-27T15:32:38.866Z"
      },
      {
        "duration": 181,
        "start_time": "2022-05-27T15:32:39.693Z"
      },
      {
        "duration": 164,
        "start_time": "2022-05-27T15:33:08.237Z"
      },
      {
        "duration": 153,
        "start_time": "2022-05-27T15:34:12.980Z"
      },
      {
        "duration": 3,
        "start_time": "2022-05-27T15:34:57.475Z"
      },
      {
        "duration": 165,
        "start_time": "2022-05-27T15:35:29.144Z"
      },
      {
        "duration": 123,
        "start_time": "2022-05-27T15:36:44.557Z"
      },
      {
        "duration": 127,
        "start_time": "2022-05-27T15:36:55.023Z"
      },
      {
        "duration": 6,
        "start_time": "2022-05-27T15:38:30.066Z"
      },
      {
        "duration": 7,
        "start_time": "2022-05-27T15:39:11.157Z"
      },
      {
        "duration": 9,
        "start_time": "2022-05-27T15:39:29.290Z"
      },
      {
        "duration": 120,
        "start_time": "2022-05-27T15:39:46.023Z"
      },
      {
        "duration": 7,
        "start_time": "2022-05-27T15:40:02.605Z"
      },
      {
        "duration": 109,
        "start_time": "2022-05-27T15:40:03.582Z"
      },
      {
        "duration": 150,
        "start_time": "2022-05-27T15:40:10.998Z"
      },
      {
        "duration": 5,
        "start_time": "2022-05-27T15:44:35.464Z"
      },
      {
        "duration": 7,
        "start_time": "2022-05-27T15:44:48.523Z"
      },
      {
        "duration": 13,
        "start_time": "2022-05-27T15:45:14.092Z"
      },
      {
        "duration": 13,
        "start_time": "2022-05-27T15:45:18.168Z"
      },
      {
        "duration": 10,
        "start_time": "2022-05-27T15:45:37.963Z"
      },
      {
        "duration": 4,
        "start_time": "2022-05-27T15:48:13.544Z"
      },
      {
        "duration": 162,
        "start_time": "2022-05-27T15:48:50.997Z"
      },
      {
        "duration": 13,
        "start_time": "2022-05-27T15:49:23.406Z"
      },
      {
        "duration": 15,
        "start_time": "2022-05-27T15:51:09.082Z"
      },
      {
        "duration": 15,
        "start_time": "2022-05-27T15:51:17.448Z"
      },
      {
        "duration": 15,
        "start_time": "2022-05-27T15:51:26.456Z"
      },
      {
        "duration": 6,
        "start_time": "2022-05-27T15:53:50.741Z"
      },
      {
        "duration": 4,
        "start_time": "2022-05-27T15:53:55.475Z"
      },
      {
        "duration": 5,
        "start_time": "2022-05-27T15:54:12.247Z"
      },
      {
        "duration": 5,
        "start_time": "2022-05-27T15:58:08.891Z"
      },
      {
        "duration": 7,
        "start_time": "2022-05-27T15:58:12.315Z"
      },
      {
        "duration": 5,
        "start_time": "2022-05-27T15:58:15.364Z"
      },
      {
        "duration": 214,
        "start_time": "2022-05-27T15:58:52.312Z"
      },
      {
        "duration": 5,
        "start_time": "2022-05-27T15:59:18.408Z"
      },
      {
        "duration": 125,
        "start_time": "2022-05-27T15:59:19.492Z"
      },
      {
        "duration": 121,
        "start_time": "2022-05-27T15:59:47.891Z"
      },
      {
        "duration": 149,
        "start_time": "2022-05-27T15:59:51.729Z"
      },
      {
        "duration": 133,
        "start_time": "2022-05-27T15:59:55.977Z"
      },
      {
        "duration": 274,
        "start_time": "2022-05-27T16:01:13.885Z"
      },
      {
        "duration": 158,
        "start_time": "2022-05-27T16:01:21.911Z"
      },
      {
        "duration": 277,
        "start_time": "2022-05-27T16:01:37.778Z"
      },
      {
        "duration": 283,
        "start_time": "2022-05-27T16:01:59.505Z"
      },
      {
        "duration": 118,
        "start_time": "2022-05-27T16:02:28.566Z"
      },
      {
        "duration": 7,
        "start_time": "2022-05-27T16:02:48.362Z"
      },
      {
        "duration": 126,
        "start_time": "2022-05-27T16:03:03.919Z"
      },
      {
        "duration": 7,
        "start_time": "2022-05-27T16:04:42.084Z"
      },
      {
        "duration": 7,
        "start_time": "2022-05-27T16:04:47.290Z"
      },
      {
        "duration": 128,
        "start_time": "2022-05-27T16:05:08.454Z"
      },
      {
        "duration": 123,
        "start_time": "2022-05-27T16:05:18.362Z"
      },
      {
        "duration": 128,
        "start_time": "2022-05-27T16:13:00.596Z"
      },
      {
        "duration": 248,
        "start_time": "2022-05-27T16:13:05.205Z"
      },
      {
        "duration": 97,
        "start_time": "2022-05-27T16:13:12.184Z"
      },
      {
        "duration": 5,
        "start_time": "2022-05-27T16:13:17.312Z"
      },
      {
        "duration": 5,
        "start_time": "2022-05-27T16:13:24.460Z"
      },
      {
        "duration": 6,
        "start_time": "2022-05-27T16:13:31.259Z"
      },
      {
        "duration": 5,
        "start_time": "2022-05-27T16:13:36.880Z"
      },
      {
        "duration": 7,
        "start_time": "2022-05-27T16:13:41.300Z"
      },
      {
        "duration": 6,
        "start_time": "2022-05-27T16:13:45.787Z"
      },
      {
        "duration": 103,
        "start_time": "2022-05-27T16:14:12.648Z"
      },
      {
        "duration": 10,
        "start_time": "2022-05-27T16:14:34.949Z"
      },
      {
        "duration": 6,
        "start_time": "2022-05-27T16:15:33.170Z"
      },
      {
        "duration": 145,
        "start_time": "2022-05-27T16:16:18.371Z"
      },
      {
        "duration": 194,
        "start_time": "2022-05-27T16:17:48.099Z"
      },
      {
        "duration": 13,
        "start_time": "2022-05-27T16:18:51.190Z"
      },
      {
        "duration": 4,
        "start_time": "2022-05-27T16:19:00.749Z"
      },
      {
        "duration": 74,
        "start_time": "2022-05-27T16:19:40.078Z"
      },
      {
        "duration": 138,
        "start_time": "2022-05-27T16:19:53.434Z"
      },
      {
        "duration": 95,
        "start_time": "2022-05-27T16:20:01.288Z"
      },
      {
        "duration": 120,
        "start_time": "2022-05-27T16:20:23.203Z"
      },
      {
        "duration": 156,
        "start_time": "2022-05-27T16:20:35.585Z"
      },
      {
        "duration": 69,
        "start_time": "2022-05-27T16:20:39.574Z"
      },
      {
        "duration": 39,
        "start_time": "2022-05-27T16:23:55.661Z"
      },
      {
        "duration": 27,
        "start_time": "2022-05-27T16:24:00.086Z"
      },
      {
        "duration": 19,
        "start_time": "2022-05-27T16:24:19.480Z"
      },
      {
        "duration": 29,
        "start_time": "2022-05-27T16:24:24.064Z"
      },
      {
        "duration": 101,
        "start_time": "2022-05-27T16:24:29.227Z"
      },
      {
        "duration": 7,
        "start_time": "2022-05-27T16:24:40.003Z"
      },
      {
        "duration": 80,
        "start_time": "2022-05-27T16:24:44.223Z"
      },
      {
        "duration": 122,
        "start_time": "2022-05-27T16:25:31.364Z"
      },
      {
        "duration": 103,
        "start_time": "2022-05-27T16:25:43.101Z"
      },
      {
        "duration": 5,
        "start_time": "2022-05-27T16:27:23.764Z"
      },
      {
        "duration": 23,
        "start_time": "2022-05-27T16:27:25.171Z"
      },
      {
        "duration": 11,
        "start_time": "2022-05-27T16:27:44.222Z"
      },
      {
        "duration": 112,
        "start_time": "2022-05-27T16:27:45.179Z"
      },
      {
        "duration": 13,
        "start_time": "2022-05-27T16:28:21.288Z"
      },
      {
        "duration": 11,
        "start_time": "2022-05-27T16:28:28.161Z"
      },
      {
        "duration": 14,
        "start_time": "2022-05-27T16:28:32.206Z"
      },
      {
        "duration": 5,
        "start_time": "2022-05-27T16:28:32.685Z"
      },
      {
        "duration": 22,
        "start_time": "2022-05-27T16:28:52.770Z"
      },
      {
        "duration": 6,
        "start_time": "2022-05-27T16:28:57.965Z"
      },
      {
        "duration": 6,
        "start_time": "2022-05-27T16:29:52.974Z"
      },
      {
        "duration": 90,
        "start_time": "2022-05-27T16:29:53.870Z"
      },
      {
        "duration": 11,
        "start_time": "2022-05-27T16:30:12.516Z"
      },
      {
        "duration": 7,
        "start_time": "2022-05-27T16:30:13.304Z"
      },
      {
        "duration": 12,
        "start_time": "2022-05-27T16:30:47.099Z"
      },
      {
        "duration": 39,
        "start_time": "2022-05-27T16:30:51.183Z"
      },
      {
        "duration": 6,
        "start_time": "2022-05-27T16:30:55.373Z"
      },
      {
        "duration": 88,
        "start_time": "2022-05-27T16:30:57.402Z"
      },
      {
        "duration": 10,
        "start_time": "2022-05-27T16:31:03.000Z"
      },
      {
        "duration": 8,
        "start_time": "2022-05-27T16:31:03.788Z"
      },
      {
        "duration": 6,
        "start_time": "2022-05-27T16:32:02.202Z"
      },
      {
        "duration": 6,
        "start_time": "2022-05-27T16:32:20.781Z"
      },
      {
        "duration": 5,
        "start_time": "2022-05-27T16:32:28.289Z"
      },
      {
        "duration": 6,
        "start_time": "2022-05-27T16:32:35.175Z"
      },
      {
        "duration": 6,
        "start_time": "2022-05-27T16:32:41.577Z"
      },
      {
        "duration": 12,
        "start_time": "2022-05-27T16:39:50.306Z"
      },
      {
        "duration": 7,
        "start_time": "2022-05-27T16:39:50.819Z"
      },
      {
        "duration": 6,
        "start_time": "2022-05-27T16:41:00.587Z"
      },
      {
        "duration": 172,
        "start_time": "2022-05-27T16:41:05.393Z"
      },
      {
        "duration": 714,
        "start_time": "2022-05-27T16:41:14.726Z"
      },
      {
        "duration": 1304,
        "start_time": "2022-05-27T16:41:50.462Z"
      },
      {
        "duration": 118,
        "start_time": "2022-05-27T16:41:51.768Z"
      },
      {
        "duration": 38,
        "start_time": "2022-05-27T16:41:51.889Z"
      },
      {
        "duration": 17,
        "start_time": "2022-05-27T16:41:51.929Z"
      },
      {
        "duration": 9,
        "start_time": "2022-05-27T16:41:51.949Z"
      },
      {
        "duration": 15,
        "start_time": "2022-05-27T16:41:51.960Z"
      },
      {
        "duration": 10,
        "start_time": "2022-05-27T16:41:51.977Z"
      },
      {
        "duration": 14,
        "start_time": "2022-05-27T16:41:52.003Z"
      },
      {
        "duration": 4,
        "start_time": "2022-05-27T16:41:52.020Z"
      },
      {
        "duration": 15,
        "start_time": "2022-05-27T16:41:52.026Z"
      },
      {
        "duration": 30,
        "start_time": "2022-05-27T16:41:52.043Z"
      },
      {
        "duration": 233,
        "start_time": "2022-05-27T16:41:52.075Z"
      },
      {
        "duration": 18179,
        "start_time": "2022-05-27T16:41:52.310Z"
      },
      {
        "duration": 326,
        "start_time": "2022-05-27T16:42:10.491Z"
      },
      {
        "duration": 5,
        "start_time": "2022-05-27T16:42:10.818Z"
      },
      {
        "duration": 104,
        "start_time": "2022-05-27T16:42:10.825Z"
      },
      {
        "duration": 11,
        "start_time": "2022-05-27T16:42:10.930Z"
      },
      {
        "duration": 10,
        "start_time": "2022-05-27T16:42:10.942Z"
      },
      {
        "duration": 208,
        "start_time": "2022-05-27T16:42:10.953Z"
      },
      {
        "duration": 47220,
        "start_time": "2022-05-27T16:42:11.163Z"
      },
      {
        "duration": 355,
        "start_time": "2022-05-27T16:42:58.384Z"
      },
      {
        "duration": 11,
        "start_time": "2022-05-27T16:42:58.740Z"
      },
      {
        "duration": 168,
        "start_time": "2022-05-27T16:42:58.753Z"
      },
      {
        "duration": 21414,
        "start_time": "2022-05-27T16:42:58.923Z"
      },
      {
        "duration": 391,
        "start_time": "2022-05-27T16:43:20.339Z"
      },
      {
        "duration": 709,
        "start_time": "2022-05-27T16:43:20.732Z"
      }
    ],
    "colab": {
      "collapsed_sections": [],
      "provenance": [],
      "toc_visible": true
    },
    "kernelspec": {
      "display_name": "Python 3 (ipykernel)",
      "language": "python",
      "name": "python3"
    },
    "language_info": {
      "codemirror_mode": {
        "name": "ipython",
        "version": 3
      },
      "file_extension": ".py",
      "mimetype": "text/x-python",
      "name": "python",
      "nbconvert_exporter": "python",
      "pygments_lexer": "ipython3",
      "version": "3.9.5"
    },
    "toc": {
      "base_numbering": 1,
      "nav_menu": {},
      "number_sections": true,
      "sideBar": true,
      "skip_h1_title": true,
      "title_cell": "Содержание",
      "title_sidebar": "Contents",
      "toc_cell": true,
      "toc_position": {},
      "toc_section_display": true,
      "toc_window_display": true
    },
    "accelerator": "GPU"
  },
  "nbformat": 4,
  "nbformat_minor": 0
}